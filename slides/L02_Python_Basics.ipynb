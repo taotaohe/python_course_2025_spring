{
 "cells": [
  {
   "cell_type": "code",
   "execution_count": null,
   "id": "b8d4fcd6-9d35-4097-81c5-3abd9124132c",
   "metadata": {},
   "outputs": [],
   "source": [
    "cd D:\\"
   ]
  },
  {
   "cell_type": "code",
   "execution_count": null,
   "id": "1a98edb8-27c6-43b8-9a5d-3e96c4f7ae7c",
   "metadata": {},
   "outputs": [],
   "source": [
    "jupyter lab"
   ]
  },
  {
   "cell_type": "markdown",
   "id": "877acc84",
   "metadata": {},
   "source": [
    "# Lecture 1: Python基础"
   ]
  },
  {
   "cell_type": "markdown",
   "id": "93dc48ad",
   "metadata": {
    "tags": []
   },
   "source": [
    "## 概要\n",
    "\n",
    "本教程从零开始入门，手把手带你熟悉python编程语言。\n",
    "\n",
    "Python 是一种面向对象、解释型、动态数据类型的高级程序设计语言。\\\n",
    "Guido van Rossum，“Python之父”，发明于1989年，第一个公开发行版发行于1991年。\n",
    "\n",
    "![Guido_van_Rossum](figures/Guido_van_Rossum.jpg)\n",
    "\n",
    "目前广泛使用的是Python 3.x版本。2010年发布的2.7版本是2.x系列的最后一个版本。3.9版本是3.x系列的最新版本。\\\n",
    "主要的科学库花了数年时间才完成从2.x到3.x的过渡，但现在我们可以放心使用Python 3.x。"
   ]
  },
  {
   "cell_type": "markdown",
   "id": "db672ce1",
   "metadata": {
    "tags": []
   },
   "source": [
    "<div class=\"alert alert-success\">    \n",
    "<b>如何在电脑上安装 Jupyter/Python</b>\n",
    "    \n",
    "一般情况下我们考虑在自己电脑上安装 Jupyter Notebook/Python 环境。这将为您提供可靠的计算环境，同时还可以安装额外的代码库，以满足特定需求。\n",
    "\n",
    "选择此选项需要进行初始软件安装和例行更新。本课程推荐的软件包是 [Anaconda](https://www.anaconda.com/)。该软件的下载和安装文档齐全，操作简单。\n",
    "\n",
    "安装完成后，请务必检查更新，然后再继续安装。使用 Anaconda 软件包时，只需在终端窗口中执行以下两条命令即可：\n",
    "    \n",
    "    > conda update conda\n",
    "    > conda update anaconda\n",
    "\n",
    "Anaconda 包含一个 \"Anaconda 导航器\"应用程序，可简化笔记本环境的启动和管理更新过程。\n",
    "</div>"
   ]
  },
  {
   "cell_type": "markdown",
   "id": "2ff3f6a4-1590-4998-acf4-0f5b81f19709",
   "metadata": {
    "tags": []
   },
   "source": [
    "### Several notes before we move on\n",
    "\n",
    "There are different types of exercises throughout this tutorial, including:\n",
    "- <font color='darkorange'><b>ToDos</b></font> : short programming exercises \n",
    "- <font color='cornflowerblue'><b>ToThinks</b></font>: questions about the (preceding) text/material\n",
    "- <font color='limegreen'><b>Tips and Tricks</b></font>, which may contain advice, more information on a specific topic, or links to relevant websites or material."
   ]
  },
  {
   "cell_type": "markdown",
   "id": "6dbc4505",
   "metadata": {
    "jp-MarkdownHeadingCollapsed": true
   },
   "source": [
    "## 第1步: 打开一个新的 Jupyter Notebook\n",
    "\n",
    "如果你在电脑上已经安装了 Jupyter/Python 环境， 那么你可以用以下两种方式打开 Jupyter Notebook:\n",
    "\n",
    "* 使用 Anaconda 自带的导航器应用，或\n",
    "* 打开命令窗口并执行以下命令：> jupyter notebook，具体步骤如下：\n",
    "1) 在Windows应用中找到Anaconda3文件夹，点击 Anaconda Powershell Prompt.\n",
    "2) 在弹出的终端上首先改变路径到你代码存放的地址，例如：cd D:\\Dropbox\\\n",
    "3) 输入 jupyter notebook 或者 jupyter lab 均可打开Notebook文件。\n",
    "\n",
    "\n",
    "无论何种方式，当你打开 Jupyter Notebook 以后，你将看到如下的界面：\n",
    "\n",
    "![Screen Shot Jupyter Session](figures/Screen-Shot-Jupyter-Session.png)\n",
    "\n",
    "此时，浏览器会显示目录和文件列表。你可以通过点击目录名，以常规方式在目录间导航。\n",
    "\n",
    "Jupyter Notebook 的后缀名为\".ipynb\"，它可以存储在任何位置。使用相应的按钮在显示的目录中上传和创建新的 Jupyter 笔记本。使用复选框选择项目进行其他操作，如复制、重命名或删除笔记本和目录。\n",
    "\n",
    "* 从现有笔记本中选择一个进行操作、\n",
    "* 点击 \"新建笔记本 \"按钮，新建一个笔记本，或 \n",
    "* 从其他目录中导入一个笔记本，将其拖到笔记本列表中。\n",
    "\n",
    "IPython 笔记本由包含标题、文本或 python 代码的单元格组成。用户界面相对简单明了。现在花几分钟时间打开、重命名并保存一个新笔记本。"
   ]
  },
  {
   "cell_type": "markdown",
   "id": "03ed7d49",
   "metadata": {},
   "source": [
    "## 第2步: Python 基础"
   ]
  },
  {
   "cell_type": "markdown",
   "id": "64611c17",
   "metadata": {},
   "source": [
    "### 2.1 变量（Variable）\n",
    "每当我们创建一组数值的时候，计算机会为它分配一些指定的内存空间。而要寻找到内存地址，我们则需要一个导游，变量就是这么一个能帮助我们找到数值地址的导游。如果把计算机内存空间想象成是一个仓库，我们可以把变量理解是一组数值的标签，标签上记录着数据的具体货柜编号，通过标签上的指示，我们就能找到数据了。\n",
    "\n",
    "变量是存储在内存中的值，这就意味着在创建变量时会在内存中开辟一个空间。\n",
    "基于变量的数据类型，解释器会分配指定内存，并决定什么数据可以被存储在内存中。\n",
    "因此，变量可以指定不同的数据类型，这些变量可以存储整数，小数或字符。"
   ]
  },
  {
   "cell_type": "code",
   "execution_count": null,
   "id": "15c24a6a-2500-4fef-8ba8-026a1db91898",
   "metadata": {},
   "outputs": [],
   "source": [
    "age = 23\n",
    "my_name = 'Tao He'"
   ]
  },
  {
   "cell_type": "code",
   "execution_count": null,
   "id": "568083f9",
   "metadata": {},
   "outputs": [],
   "source": [
    "print(my_name)"
   ]
  },
  {
   "cell_type": "code",
   "execution_count": null,
   "id": "af2c500c",
   "metadata": {
    "tags": []
   },
   "outputs": [],
   "source": [
    "type(age)"
   ]
  },
  {
   "cell_type": "code",
   "execution_count": null,
   "id": "b44d870d-126f-4e6e-9fd4-aab13e04f972",
   "metadata": {
    "tags": []
   },
   "outputs": [],
   "source": [
    "# 连续变量命名\n",
    "a = b = c = 1"
   ]
  },
  {
   "cell_type": "code",
   "execution_count": null,
   "id": "cd568706-badf-4c56-a941-59247b3e66be",
   "metadata": {
    "tags": []
   },
   "outputs": [],
   "source": [
    "print(c)"
   ]
  },
  {
   "cell_type": "code",
   "execution_count": null,
   "id": "339a02cc-21ae-4a53-bc94-c113479de4c2",
   "metadata": {
    "tags": []
   },
   "outputs": [],
   "source": [
    "a, b, c = 1, 2, \"john\""
   ]
  },
  {
   "cell_type": "code",
   "execution_count": null,
   "id": "1b2da898-7d15-4ada-a4b1-449be85e9fce",
   "metadata": {
    "tags": []
   },
   "outputs": [],
   "source": [
    "print(c)"
   ]
  },
  {
   "cell_type": "markdown",
   "id": "cf0cb0e8-888d-42c2-b333-918da06d9c58",
   "metadata": {},
   "source": [
    "<font color='limegreen'><b>Tips and Tricks</b></font>\\\n",
    "在创建变量的时候，要注意下面的命名规则：\n",
    "1. 变量名只能包含字母、数字和下划线 ( _ )，且不能以数字开头\n",
    "* 正确：hello_world_1\n",
    "* 错误：$hello / *cool\n",
    "2. 变量名中不允许有空格，我们可以通过单词首字母大写或用下划线来分割不同的单词（推荐使用下划线）\n",
    "* 正确：studentName / hello_world\n",
    "* 错误：hello word\n",
    "3. Python内置的函数和关键字不能被用作变量名的\n",
    "* 正确: student\n",
    "* 错误: print / class / def\n",
    "4. 变量名最好简短并能有明确的意义\n",
    "* 正确：student_name / class_grade\n",
    "* 错误：sdf_23"
   ]
  },
  {
   "cell_type": "markdown",
   "id": "824ec5de",
   "metadata": {},
   "source": [
    "### 2.2 数字、字符串和索引（Numbers, Strings, & Index）"
   ]
  },
  {
   "cell_type": "markdown",
   "id": "7b8abcb4",
   "metadata": {},
   "source": [
    "#### 2.2.1 数字（Numbers）"
   ]
  },
  {
   "cell_type": "code",
   "execution_count": null,
   "id": "13b89717-b83e-4584-8ee3-ed1716ff377b",
   "metadata": {
    "tags": []
   },
   "outputs": [],
   "source": [
    "a = 12\n",
    "b = 2"
   ]
  },
  {
   "cell_type": "code",
   "execution_count": null,
   "id": "16b76caf",
   "metadata": {
    "tags": []
   },
   "outputs": [],
   "source": [
    "print(a + b)\n",
    "print(a**b)    # 12 to the power of 2 (12 squared)\n",
    "print(a/b)     # division always returns a floating point number\n",
    "print(a//b)    # Floor Division (向下取整除) 只保留整数部分\n",
    "print(a%b)     # remainder"
   ]
  },
  {
   "cell_type": "code",
   "execution_count": null,
   "id": "bfd459e4-54ec-468f-bdfe-313faa42326b",
   "metadata": {},
   "outputs": [],
   "source": [
    "print(round(11/2)) # 四舍五入，慎用！\n",
    "\n",
    "# 这跟浮点数的精度有关。在机器中浮点数不一定精确，因为换算成一串 1 和 0 后可能是无限位数的，机器已经做出了截断处理。\n",
    "# 所以在机器中保存的 0.5 就比实际数字要小那么一点点，导致所谓的四舍六入。"
   ]
  },
  {
   "cell_type": "code",
   "execution_count": null,
   "id": "6f37393c",
   "metadata": {},
   "outputs": [],
   "source": [
    "width  = 12\n",
    "height = 10\n",
    "print('area = ' + str(width*height))"
   ]
  },
  {
   "cell_type": "markdown",
   "id": "6782e055",
   "metadata": {},
   "source": [
    "#### 2.2.2 字符串（Strings）\n",
    "字符串是由一系列的字符组成的，是由单引号 ‘ 或双引号 ” 括起来的，同时使用反斜杠 \\ 转义特殊字符。"
   ]
  },
  {
   "cell_type": "code",
   "execution_count": null,
   "id": "dbbf7cbf",
   "metadata": {},
   "outputs": [],
   "source": [
    "'spam eggs'"
   ]
  },
  {
   "cell_type": "code",
   "execution_count": null,
   "id": "f8671131",
   "metadata": {},
   "outputs": [],
   "source": [
    "'doesn\\'t'  # use \\' to escape the single quote... \\是转义字符"
   ]
  },
  {
   "cell_type": "code",
   "execution_count": null,
   "id": "da216cfb",
   "metadata": {},
   "outputs": [],
   "source": [
    "\"doesn't\" # ...or use double quotes instead"
   ]
  },
  {
   "cell_type": "code",
   "execution_count": null,
   "id": "02926cce",
   "metadata": {},
   "outputs": [],
   "source": [
    "s = 'First line.\\nSecond line.'  # \\n means newline换行符\n",
    "print(s) # without print(), \\n is included in the output"
   ]
  },
  {
   "cell_type": "code",
   "execution_count": null,
   "id": "554f7f82",
   "metadata": {
    "tags": []
   },
   "outputs": [],
   "source": [
    "# 字符串的开头加入r，让引号的内部字符串不转义\n",
    "print('C:\\some\\name')  # here \\n means newline!\n",
    "print(r'C:\\some\\name')  # note the r before the quote"
   ]
  },
  {
   "cell_type": "code",
   "execution_count": null,
   "id": "2a59ab92",
   "metadata": {
    "tags": []
   },
   "outputs": [],
   "source": [
    "# String literals can span multiple lines. One way is using triple-quotes: \"\"\"...\"\"\" or '''...'''\n",
    "print(\"\"\"\\\n",
    "Usage: thingy [OPTIONS]\n",
    "-h              Display this usage message\n",
    "-H hostname     Hostname to connect to\n",
    "\"\"\")"
   ]
  },
  {
   "cell_type": "code",
   "execution_count": null,
   "id": "62c13941",
   "metadata": {
    "tags": []
   },
   "outputs": [],
   "source": [
    "# 加号（+）是字符串的连接符，星号（*）用来复制字符串\n",
    "# 3 times 'un', followed by 'ium'\n",
    "3 * 'un' + 'ium'"
   ]
  },
  {
   "cell_type": "code",
   "execution_count": null,
   "id": "09e47e21-6035-41ff-8e99-ca559c5d591a",
   "metadata": {
    "tags": []
   },
   "outputs": [],
   "source": [
    "# Python支持格式化字符串的输出，这有助于我们编写复杂的字符串：\n",
    "print(\"%s was born in %d.\" %('Python', 1991))\n",
    "print(\"{} was born in {}.\".format('Python', 1991))"
   ]
  },
  {
   "cell_type": "markdown",
   "id": "cad4adde-2559-4df7-9791-b001554fdaef",
   "metadata": {},
   "source": [
    "一些有用的字符串函数"
   ]
  },
  {
   "cell_type": "code",
   "execution_count": null,
   "id": "70c9324c-6bf5-4076-9a86-cd08580fbea8",
   "metadata": {
    "tags": []
   },
   "outputs": [],
   "source": [
    "name = \"Hello world\"\n",
    "print(name.title()) # Hello World\n",
    "print(name.upper()) # HELLO WORLD\n",
    "print(name.lower()) # hello world\n",
    "\n",
    "str1 = \"    Hello\"\n",
    "str2 = \"  World\"\n",
    "# 用来消除空格的函数\n",
    "print(str1.strip() + str2.strip()) # HelloWorld"
   ]
  },
  {
   "cell_type": "markdown",
   "id": "f7b80ada-3eda-4623-93e1-4bec4e418c7c",
   "metadata": {
    "jp-MarkdownHeadingCollapsed": true,
    "tags": []
   },
   "source": [
    "#### <font color='darkorange'><b>ToDos</b></font>\n",
    "把字符串I, You 或 He赋值给变量，并用格式化的方法打印出\"* don't like python.\"。"
   ]
  },
  {
   "cell_type": "code",
   "execution_count": null,
   "id": "f0e2486b-3164-4b3c-be04-d7c97e00125e",
   "metadata": {
    "tags": []
   },
   "outputs": [],
   "source": [
    "# Answer\n",
    "\n",
    "who = 'He'\n",
    "print(\"%s don't like python.\" %(who))\n",
    "print('%s don\\'t like python.' %(who))\n",
    "print('{} don\\'t like python.'.format(who))"
   ]
  },
  {
   "cell_type": "markdown",
   "id": "621b3112",
   "metadata": {},
   "source": [
    "#### 2.2.3 索引（Index）"
   ]
  },
  {
   "cell_type": "code",
   "execution_count": null,
   "id": "7f658896",
   "metadata": {},
   "outputs": [],
   "source": [
    "word = 'Python'\n",
    "word[5]  # Note: index starting with 0 instead of 1 !!!"
   ]
  },
  {
   "cell_type": "code",
   "execution_count": null,
   "id": "3d47c505",
   "metadata": {},
   "outputs": [],
   "source": [
    "word[-1]"
   ]
  },
  {
   "cell_type": "code",
   "execution_count": null,
   "id": "59d146b8-adf8-4e30-a3f0-e44f1af81d2f",
   "metadata": {
    "tags": []
   },
   "outputs": [],
   "source": [
    "word[-2]"
   ]
  },
  {
   "cell_type": "code",
   "execution_count": null,
   "id": "30931683",
   "metadata": {},
   "outputs": [],
   "source": [
    "word[0:3]  # characters from position 0 (included) to 2 (excluded),左闭右开区间"
   ]
  },
  {
   "cell_type": "code",
   "execution_count": null,
   "id": "7f65aa38",
   "metadata": {},
   "outputs": [],
   "source": [
    "word[:2] + word[3:]"
   ]
  },
  {
   "cell_type": "markdown",
   "id": "64f36d72",
   "metadata": {},
   "source": [
    "![Screen Shot Jupyter Session](figures/python_indexing.jpeg)"
   ]
  },
  {
   "cell_type": "code",
   "execution_count": null,
   "id": "2b59e9b6",
   "metadata": {},
   "outputs": [],
   "source": [
    "len(word)"
   ]
  },
  {
   "cell_type": "markdown",
   "id": "de202414",
   "metadata": {},
   "source": [
    "### 2.3 列表（List）\n",
    "列表是最常用的Python数据类型，它可以作为一个方括号内的逗号分隔值出现。\n",
    "\n",
    "列表的数据项不需要具有相同的类型。\n",
    "\n",
    "创建一个列表，只要把逗号分隔的不同的数据项使用方括号括起来即可。如下所示："
   ]
  },
  {
   "cell_type": "code",
   "execution_count": null,
   "id": "d2f641d1-e81f-4772-a27b-6cbc3aed5e75",
   "metadata": {
    "tags": []
   },
   "outputs": [],
   "source": [
    "list1 = [1, 2, 3, 4, 5]\n",
    "list2 = [\"a\", \"b\", \"c\", \"d\"]\n",
    "list3 = ['e', 'f', 100, 200]"
   ]
  },
  {
   "cell_type": "code",
   "execution_count": null,
   "id": "65a070c4",
   "metadata": {
    "tags": []
   },
   "outputs": [],
   "source": [
    "squares = [1, 4, 9, 16, 25]\n",
    "print(squares)"
   ]
  },
  {
   "cell_type": "code",
   "execution_count": null,
   "id": "1dec00a2",
   "metadata": {},
   "outputs": [],
   "source": [
    "len(squares)"
   ]
  },
  {
   "cell_type": "code",
   "execution_count": null,
   "id": "f51c09c2",
   "metadata": {},
   "outputs": [],
   "source": [
    "squares[1:]"
   ]
  },
  {
   "cell_type": "code",
   "execution_count": null,
   "id": "bceef36d",
   "metadata": {
    "tags": []
   },
   "outputs": [],
   "source": [
    "squares + [36, 49, 64, 81, 100]"
   ]
  },
  {
   "cell_type": "code",
   "execution_count": null,
   "id": "6ee6dfc1-d31b-4d21-b3d5-d5200c718146",
   "metadata": {
    "tags": []
   },
   "outputs": [],
   "source": [
    "# 为列表中每一个元素都加上一个数\n",
    "new_list = [x+1 for x in squares]\n",
    "new_list"
   ]
  },
  {
   "cell_type": "code",
   "execution_count": null,
   "id": "050175ea",
   "metadata": {},
   "outputs": [],
   "source": [
    "squares.append('hello')\n",
    "squares"
   ]
  },
  {
   "cell_type": "code",
   "execution_count": null,
   "id": "b3641856",
   "metadata": {},
   "outputs": [],
   "source": [
    "len(squares)"
   ]
  },
  {
   "cell_type": "code",
   "execution_count": null,
   "id": "c4cff3da",
   "metadata": {
    "tags": []
   },
   "outputs": [],
   "source": [
    "x = [['a', 'b', 'c'], [1, 2, 3]]"
   ]
  },
  {
   "cell_type": "code",
   "execution_count": null,
   "id": "694ea084-bbcd-4808-acbf-46c861c93534",
   "metadata": {
    "tags": []
   },
   "outputs": [],
   "source": [
    "x[0][1]"
   ]
  },
  {
   "cell_type": "markdown",
   "id": "eae0402e-c339-4e53-9e08-a3aaeb149f31",
   "metadata": {
    "jp-MarkdownHeadingCollapsed": true,
    "tags": []
   },
   "source": [
    "#### <font color='darkorange'><b>ToDos</b></font>\n",
    "请用索引的方法从下面列表中分别打印出\\\n",
    "“I like python”\\\n",
    "“I like python in 1991”\\\n",
    "提示：数字转换成字符串可以用str()函数。\n",
    "\n",
    "my_list = [23, 'in ', 1991, 'I ', 90, 'like python ']"
   ]
  },
  {
   "cell_type": "code",
   "execution_count": null,
   "id": "9dd05e05-dbef-48a9-bbcd-ff170c4741f0",
   "metadata": {
    "tags": []
   },
   "outputs": [],
   "source": [
    "# Answer\n",
    "my_list = [23, 'in ', 1991, 'I ', 90, 'like python ']\n",
    "print(my_list[3] + my_list[5])\n",
    "print(my_list[3] + my_list[5] + my_list[1] + str(my_list[2]))"
   ]
  },
  {
   "cell_type": "markdown",
   "id": "8117161f-e8da-4361-8fa0-8bfba31742ca",
   "metadata": {
    "tags": []
   },
   "source": [
    "### 2.4 元组 (Tuple)\n",
    "Python 的元组与列表类似，不同之处在于元组的元素不能修改。\n",
    "\n",
    "元组使用小括号，列表使用方括号。\n",
    "\n",
    "元组创建很简单，只需要在括号中添加元素，并使用逗号隔开即可。"
   ]
  },
  {
   "cell_type": "code",
   "execution_count": null,
   "id": "2bf9b123-7e27-4aad-9973-f0d03e330fce",
   "metadata": {
    "tags": []
   },
   "outputs": [],
   "source": [
    "tuple1 = (1, 2, 3, 4, 5)\n",
    "tuple2 = (\"a\", \"b\", \"c\", \"d\")\n",
    "tuple3 = ('e', 'f', 100, 200)"
   ]
  },
  {
   "cell_type": "code",
   "execution_count": null,
   "id": "c08254ca-c906-43b5-a58c-87e23ea30858",
   "metadata": {
    "tags": []
   },
   "outputs": [],
   "source": [
    "tuple1[1]"
   ]
  },
  {
   "cell_type": "code",
   "execution_count": null,
   "id": "068b1a79-0206-45a3-ad35-2427fe45e447",
   "metadata": {
    "tags": []
   },
   "outputs": [],
   "source": [
    "# 元组中的元素值是不允许修改的，但我们可以对元组进行连接组合\n",
    "tuple1[0] = 100"
   ]
  },
  {
   "cell_type": "code",
   "execution_count": null,
   "id": "47746ac9-de8c-42a7-8e9b-d535065fdc84",
   "metadata": {},
   "outputs": [],
   "source": [
    "tuple1+tuple2"
   ]
  },
  {
   "cell_type": "markdown",
   "id": "7061b903-6083-4af5-bdb8-38a68142b7cd",
   "metadata": {},
   "source": [
    "### 2.5 布尔类型（Bool）\n",
    "布尔类型既True和False。"
   ]
  },
  {
   "cell_type": "code",
   "execution_count": null,
   "id": "4e7ec288-fe82-46c2-baea-db807e9165e7",
   "metadata": {
    "tags": []
   },
   "outputs": [],
   "source": [
    "string = \"Hello Word\"\n",
    "print(string.isalnum()) # 查看是否所有字符都是数字\n",
    "print(string.isupper()) # Check if string contains upper case"
   ]
  },
  {
   "cell_type": "code",
   "execution_count": null,
   "id": "e64765d7-39bc-4b60-b400-3fabc55544dc",
   "metadata": {
    "tags": []
   },
   "outputs": [],
   "source": [
    "True and False # False\n",
    "True and True # True\n",
    "False and True # False\n",
    "False or True # True\n",
    "False and False # False\n",
    "not False # True\n",
    "not True # False"
   ]
  },
  {
   "cell_type": "markdown",
   "id": "247b16fb-78a3-40bd-a23a-9f5a5caa25fa",
   "metadata": {},
   "source": [
    "### 2.6 字典 (dictionary)\n",
    "字典是另一种可变容器模型，且可存储任意类型对象。\n",
    "\n",
    "字典的每个键值 key:value 对用冒号 : 分割，每个键值对之间用逗号 , 分割，整个字典包括在花括号 {} 中 ,格式如下所示：\n",
    "\n",
    "d = {key1 : value1, key2 : value2 }"
   ]
  },
  {
   "cell_type": "code",
   "execution_count": null,
   "id": "9097e87f-58bc-44f0-8db6-8a124b3336e7",
   "metadata": {
    "tags": []
   },
   "outputs": [],
   "source": [
    "# 键一般是唯一的，值不需要唯一。如果有两个重复的键值对，后面的会替换前面的。\n",
    "mydict = {'a': 2, 'b': 2, 'c': '3'}\n",
    "mydict['a']"
   ]
  },
  {
   "cell_type": "code",
   "execution_count": null,
   "id": "a68ed45c-30f9-44ea-84bf-2992d35d63ed",
   "metadata": {
    "tags": []
   },
   "outputs": [],
   "source": [
    "mydict"
   ]
  },
  {
   "cell_type": "code",
   "execution_count": null,
   "id": "6626d731-4d97-4530-a6ca-1ce8472eae28",
   "metadata": {
    "tags": []
   },
   "outputs": [],
   "source": [
    "# 值可以取任何数据类型，但键必须是不可变类型，如字符串，数字或元组，所以列表不行。\n",
    "mynewdict = {'abc': 123, 98.6: 'char', ('a'): 456}"
   ]
  },
  {
   "cell_type": "code",
   "execution_count": null,
   "id": "8a64fb1b-4884-4da7-a78f-108c533be268",
   "metadata": {
    "tags": []
   },
   "outputs": [],
   "source": [
    "mynewdict[98.6]"
   ]
  },
  {
   "cell_type": "code",
   "execution_count": null,
   "id": "a5688840-e64a-44e5-8633-36cc19b94f95",
   "metadata": {
    "tags": []
   },
   "outputs": [],
   "source": [
    "mynewdict = {'abc': 123, 98.6: 'char', ['a']: 456}"
   ]
  },
  {
   "cell_type": "code",
   "execution_count": null,
   "id": "9eba55fa-151f-463d-9d41-e9d3ae91337f",
   "metadata": {
    "tags": []
   },
   "outputs": [],
   "source": [
    "# 访问字典里的值\n",
    "mydict1 = {'Name': 'Bob', 'Age': 10, 'Class': 'First'}\n",
    "print(mydict1['Name'], 'is', mydict1['Age'], 'years old.')"
   ]
  },
  {
   "cell_type": "code",
   "execution_count": null,
   "id": "a22d9880-b844-4488-b859-49c5f426b3f0",
   "metadata": {
    "tags": []
   },
   "outputs": [],
   "source": [
    "# 修改字典\n",
    "mydict1['Age'] = 8 # update\n",
    "mydict1['School'] = \"BLCU\" # add"
   ]
  },
  {
   "cell_type": "code",
   "execution_count": null,
   "id": "d0951bc5-588a-4331-9663-afac471011b2",
   "metadata": {
    "tags": []
   },
   "outputs": [],
   "source": [
    "mydict1"
   ]
  },
  {
   "cell_type": "code",
   "execution_count": null,
   "id": "0a148ea7-de39-44f5-b791-f81f2c75c74c",
   "metadata": {
    "tags": []
   },
   "outputs": [],
   "source": [
    "# 删除字典元素\n",
    "del mydict1['Name']\n",
    "mydict1"
   ]
  },
  {
   "cell_type": "code",
   "execution_count": null,
   "id": "36ba4bd8-05a3-4ea1-8c3c-a0924c87b679",
   "metadata": {
    "tags": []
   },
   "outputs": [],
   "source": [
    "mydict1.clear() # 清空字典里的所有条目"
   ]
  },
  {
   "cell_type": "code",
   "execution_count": null,
   "id": "39c49327-04c3-4a79-985c-d332f610568b",
   "metadata": {
    "tags": []
   },
   "outputs": [],
   "source": [
    "mydict1"
   ]
  },
  {
   "cell_type": "markdown",
   "id": "8bbee50c-c99f-41bf-9584-1a2c7b3668e3",
   "metadata": {},
   "source": [
    "字典内置函数 & 方法"
   ]
  },
  {
   "cell_type": "code",
   "execution_count": null,
   "id": "39110213-089e-4609-b2d0-de7ca1836b2b",
   "metadata": {
    "tags": []
   },
   "outputs": [],
   "source": [
    "mynewdict.items() # 以列表返回可遍历的(键, 值) 元组数组"
   ]
  },
  {
   "cell_type": "code",
   "execution_count": null,
   "id": "4090556d-e88d-4a87-9691-108938db6a83",
   "metadata": {
    "tags": []
   },
   "outputs": [],
   "source": [
    "mynewdict.keys() # 以列表返回一个字典所有的键"
   ]
  },
  {
   "cell_type": "code",
   "execution_count": null,
   "id": "09b23331-a52e-47e4-af50-be8eb12f0846",
   "metadata": {
    "tags": []
   },
   "outputs": [],
   "source": [
    "mynewdict.values() # 以列表返回字典中的所有值"
   ]
  },
  {
   "cell_type": "markdown",
   "id": "78f5dca9-3ddb-4bd1-b49b-9dc84b1063aa",
   "metadata": {},
   "source": [
    "![Screen Shot Jupyter Session](figures/data_structure.png)"
   ]
  },
  {
   "cell_type": "markdown",
   "id": "0b3a8abc-ac3c-4c23-a5df-14a5134e1c3d",
   "metadata": {},
   "source": [
    "### The end! :-)"
   ]
  }
 ],
 "metadata": {
  "kernelspec": {
   "display_name": "Python 3 (ipykernel)",
   "language": "python",
   "name": "python3"
  },
  "language_info": {
   "codemirror_mode": {
    "name": "ipython",
    "version": 3
   },
   "file_extension": ".py",
   "mimetype": "text/x-python",
   "name": "python",
   "nbconvert_exporter": "python",
   "pygments_lexer": "ipython3",
   "version": "3.11.7"
  }
 },
 "nbformat": 4,
 "nbformat_minor": 5
}
