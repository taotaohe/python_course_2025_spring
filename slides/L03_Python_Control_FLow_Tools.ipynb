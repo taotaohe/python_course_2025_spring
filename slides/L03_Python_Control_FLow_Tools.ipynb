{
 "cells": [
  {
   "cell_type": "markdown",
   "id": "db592212-7725-42ee-8876-98b9ed87de83",
   "metadata": {},
   "source": [
    "# Lecture 2: Python Control FLow Tools"
   ]
  },
  {
   "cell_type": "markdown",
   "id": "4906a549-80a7-4bed-9021-9b2639138ae2",
   "metadata": {
    "tags": []
   },
   "source": [
    "### 2.1 导入模块(import)"
   ]
  },
  {
   "cell_type": "markdown",
   "id": "7ccc422b-ce5a-4a95-a051-1848fb13b298",
   "metadata": {},
   "source": [
    "Python 模块(Module)，是一个 Python 文件，以 .py 结尾，包含了 Python 对象定义和Python语句。\n",
    "\n",
    "模块让你能够有逻辑地组织你的 Python 代码段。\n",
    "\n",
    "把相关的代码分配到一个模块里能让你的代码更好用，更易懂。\n",
    "\n",
    "模块能定义函数，类和变量，模块里也能包含可执行的代码。"
   ]
  },
  {
   "cell_type": "code",
   "execution_count": null,
   "id": "deb6bfe8-d3ab-4a32-a041-d49f5f244de0",
   "metadata": {
    "tags": []
   },
   "outputs": [],
   "source": [
    "import math\n",
    "import matplotlib.pyplot as plt\n",
    "import numpy as np"
   ]
  },
  {
   "cell_type": "code",
   "execution_count": null,
   "id": "2df74891-3dae-4b91-add1-026e75e02a88",
   "metadata": {
    "tags": []
   },
   "outputs": [],
   "source": [
    "math.log(5)"
   ]
  },
  {
   "cell_type": "code",
   "execution_count": null,
   "id": "b5dfd50d-f314-4a7c-a571-bd1917bb5106",
   "metadata": {
    "tags": []
   },
   "outputs": [],
   "source": [
    "plt.plot(np.array([2, 8]), np.array([3, 10]))"
   ]
  },
  {
   "cell_type": "code",
   "execution_count": null,
   "id": "d35c3421-c891-4a0f-a4af-b1c5e182b883",
   "metadata": {
    "tags": []
   },
   "outputs": [],
   "source": [
    "# 从模块中导入一个指定的部分到当前命名空间中\n",
    "from math import log, sin, pi"
   ]
  },
  {
   "cell_type": "code",
   "execution_count": null,
   "id": "e3431cbb-f061-483f-879d-fd869029b270",
   "metadata": {},
   "outputs": [],
   "source": [
    "round(sin(30*pi/180),1) # 保留小数点后一位"
   ]
  },
  {
   "cell_type": "code",
   "execution_count": null,
   "id": "13efe9cb-17d9-44ac-a9f2-59e5055014c2",
   "metadata": {
    "tags": []
   },
   "outputs": [],
   "source": [
    "print('%.2f' %round(sin(30*pi/180),2))"
   ]
  },
  {
   "cell_type": "code",
   "execution_count": null,
   "id": "13dcb259-a03d-4a54-bcd7-3b6074b285cd",
   "metadata": {
    "tags": []
   },
   "outputs": [],
   "source": [
    "from os import *"
   ]
  },
  {
   "cell_type": "code",
   "execution_count": null,
   "id": "f7f093ed-a80b-469b-8132-bce952d6b89e",
   "metadata": {
    "tags": []
   },
   "outputs": [],
   "source": [
    "getcwd()"
   ]
  },
  {
   "cell_type": "markdown",
   "id": "f6152f8e-e483-4fe2-b6a4-c53610f244fc",
   "metadata": {},
   "source": [
    "### 2.2 判断语句(if...else...)\n",
    "Python条件语句是通过一条或多条语句的执行结果（True或者False）来决定执行的代码块。"
   ]
  },
  {
   "cell_type": "code",
   "execution_count": null,
   "id": "bda3be7b-c305-4c55-b644-602cdd70854c",
   "metadata": {},
   "outputs": [],
   "source": [
    "# 有时候我们需要在特定的条件下执行命令 \n",
    "\n",
    "# 例子：判断输入值跟40的关系\n",
    "inputv = 32\n",
    "\n",
    "if inputv == 40:\n",
    "    print('你输入的数值等于40！')\n",
    "elif inputv < 40:\n",
    "    print('你输入的数值小于40！')\n",
    "else: \n",
    "    print('你输入的数值大于40！')\n",
    "\n",
    "print('这一行命令每次都要运行，因为它没有缩进!')"
   ]
  },
  {
   "cell_type": "code",
   "execution_count": null,
   "id": "1a564f29-cbb8-4298-b48b-3c530f005391",
   "metadata": {
    "tags": []
   },
   "outputs": [],
   "source": [
    "# 我们也可以同时判断多个条件\n",
    "# How long does it take me to get to class in the morning?\n",
    "\n",
    "snowy = True\n",
    "day = \"Monday\"\n",
    "\n",
    "if (snowy == False) and (day != \"Monday\"):\n",
    "    time = 7\n",
    "elif (snowy == True) and (day == \"Monday\"):\n",
    "    time = 11\n",
    "elif (rainy == True) or (day == \"Monday\"):\n",
    "    time = 9\n",
    "    \n",
    "print(\"It takes me %d minutes\" %(time))"
   ]
  },
  {
   "cell_type": "markdown",
   "id": "2338983a-e715-4a58-b4ba-f09e2ec32126",
   "metadata": {
    "tags": []
   },
   "source": [
    "### <font color='darkorange'><b>ToDos</b></font>\n",
    "假设我们现在有这样一个实验任务，在出现高频声音（highTone）后会在屏幕上闪现一个45°角的光栅（grating），而出现低频声音（lowTone）后会在屏幕上闪现一个135°角的光栅（grating），请写出一个判断语句的伪代码。"
   ]
  },
  {
   "cell_type": "code",
   "execution_count": null,
   "id": "0b49f6e4-27b1-4a2c-b0e7-a7b5cd2ca734",
   "metadata": {
    "jupyter": {
     "source_hidden": true
    },
    "tags": []
   },
   "outputs": [],
   "source": [
    "# Answer\n",
    "\n",
    "toneType = 'highTone'\n",
    "\n",
    "if toneType == 'highTone':\n",
    "    gratOri = 45\n",
    "elif toneType == 'lowTone':\n",
    "    gratOri = 135\n",
    "    \n",
    "drawGrating(gratOri)"
   ]
  },
  {
   "cell_type": "markdown",
   "id": "4c63b016-961e-4fdc-bfdc-76c9981f1847",
   "metadata": {
    "tags": []
   },
   "source": [
    "现在有两个条件，声音时长（1s vs. 2s）和音频高低(highTone vs. lowTone)\n",
    "\n",
    "声音时长短，音频高：45°\\\n",
    "声音时长短，音频低：90°\\\n",
    "声音时长长，音频高：135°\\\n",
    "声音时长长，音频低：180°\n",
    "\n",
    "请写出一个判断语句的伪代码。"
   ]
  },
  {
   "cell_type": "code",
   "execution_count": null,
   "id": "eef6bf34-01e0-475c-9f78-e70047eea0d5",
   "metadata": {
    "jupyter": {
     "source_hidden": true
    },
    "tags": []
   },
   "outputs": [],
   "source": [
    "# Answer\n",
    "\n",
    "if (duration == 1) and (toneType == 'highTone'):\n",
    "    gratOri = 45\n",
    "elif (duration == 1) and (toneType == 'lowTone'):\n",
    "    gratOri = 90\n",
    "elif (duration == 2) and (toneType == 'highTone'):\n",
    "    gratOri = 135\n",
    "elif (duration == 2) and (toneType == 'lowTone'):\n",
    "    gratOri = 180\n",
    "\n",
    "drawGrating(gratOri)"
   ]
  },
  {
   "cell_type": "markdown",
   "id": "1653fd9e-67b9-418f-82d2-1e4a7802f700",
   "metadata": {},
   "source": [
    "### 2.3 循环(loop)\n",
    "程序在一般情况下是按顺序执行的，但是编程语言提供了各种控制结构，允许更复杂的执行路径。\n",
    "\n",
    "循环语句允许我们执行一个语句或语句组多次。"
   ]
  },
  {
   "cell_type": "markdown",
   "id": "8ff8205d-c255-4710-889a-c6d061134c84",
   "metadata": {},
   "source": [
    "![loop](figures/loop.png)"
   ]
  },
  {
   "cell_type": "markdown",
   "id": "4b88bcc4-e571-4a37-8983-0ea6cee42b44",
   "metadata": {},
   "source": [
    "#### 三种类型\n",
    "while 循环：在给定的判断条件为 true 时执行循环体，否则退出循环体。\\\n",
    "for循环：重复执行语句\\\n",
    "嵌套循环：你可以在while循环体中嵌套for循环"
   ]
  },
  {
   "cell_type": "markdown",
   "id": "ea3cd189-14a5-4de9-b130-c3dd0ae9ada5",
   "metadata": {},
   "source": [
    "### 2.3.1 while循环"
   ]
  },
  {
   "cell_type": "code",
   "execution_count": null,
   "id": "c5cc691c-45fc-44ee-9b5f-6f7c8d78f62d",
   "metadata": {
    "tags": []
   },
   "outputs": [],
   "source": [
    "# 输出10以内的所有奇数\n",
    "a = 1\n",
    "\n",
    "while a < 10:\n",
    "    print(a)\n",
    "    a = a + 2"
   ]
  },
  {
   "cell_type": "code",
   "execution_count": null,
   "id": "816f9a15-71bb-4095-a746-b965a0c19303",
   "metadata": {
    "tags": []
   },
   "outputs": [],
   "source": [
    "# 打印出列表内的所有元素\n",
    "mylist = [1, 1, 2, 3, 5, 8]\n",
    "\n",
    "i = 0\n",
    "while i < len(mylist):\n",
    "    print(mylist[i])\n",
    "    i = i + 1"
   ]
  },
  {
   "cell_type": "markdown",
   "id": "daf5fe0c-e082-40d3-9d03-4ea0bb5b1e49",
   "metadata": {
    "tags": []
   },
   "source": [
    "### <font color='darkorange'><b>ToDos</b></font>\n",
    "输出10（包含）以内的所有偶数"
   ]
  },
  {
   "cell_type": "code",
   "execution_count": null,
   "id": "8147937d-ae54-4b11-8b24-bc1835e35d75",
   "metadata": {
    "jupyter": {
     "source_hidden": true
    },
    "tags": []
   },
   "outputs": [],
   "source": [
    "# Answer\n",
    "a = 0\n",
    "while a <= 10:\n",
    "    print(a)\n",
    "    a += 2"
   ]
  },
  {
   "cell_type": "code",
   "execution_count": null,
   "id": "4e6c785d-544b-4815-89a5-ed2a3466686b",
   "metadata": {
    "tags": []
   },
   "outputs": [],
   "source": [
    "# continue 用法\n",
    "# 输出10（包含）以内的所有偶数\n",
    "i = -1\n",
    "\n",
    "while i < 10:  \n",
    "    i += 1\n",
    "    if i%2 != 0: # 奇数时跳过输出\n",
    "        continue\n",
    "    print(i)  # 输出偶数\n",
    "    \n",
    "# The continue statement rejects all the remaining statements \n",
    "# in the current iteration of the loop and moves the control back \n",
    "# to the top of the loop.\n",
    "\n",
    "# The continue statement can be used in both while and for loops."
   ]
  },
  {
   "cell_type": "code",
   "execution_count": null,
   "id": "a60b1cfe-512c-49b9-af15-e671f75442a0",
   "metadata": {
    "tags": []
   },
   "outputs": [],
   "source": [
    "# break 用法\n",
    "i = 0\n",
    "while True:         # 循环条件为True,将永远执行下去\n",
    "    print(i)        # 输出1~10\n",
    "    i += 2\n",
    "    if i > 10:     # 当i大于10时跳出循环\n",
    "        break"
   ]
  },
  {
   "cell_type": "markdown",
   "id": "40cade33-93eb-4b2b-bab7-c2caf45e20be",
   "metadata": {
    "tags": []
   },
   "source": [
    "### <font color='darkorange'><b>ToDos</b></font>\n",
    "请判定10(包含)以内的自然数是奇数还是偶数，并依次打印出来。输出结果如下：\\\n",
    "0 is even number!\\\n",
    "1 is odd number!\\\n",
    "...\\\n",
    "10 is even number!\n",
    "\n",
    "温馨提示：注意如何结束while循环，否则可能陷入死循环！"
   ]
  },
  {
   "cell_type": "code",
   "execution_count": null,
   "id": "c5803b23-501d-4982-8715-dc58efcf3d9d",
   "metadata": {
    "jupyter": {
     "source_hidden": true
    },
    "tags": []
   },
   "outputs": [],
   "source": [
    "# Answer\n",
    "\n",
    "i = 0\n",
    "while i <= 10:\n",
    "    if (i%2 == 0):\n",
    "        print(i, \"is even number!\")\n",
    "    else:\n",
    "        print(i, \"is odd number!\")\n",
    "    i += 1"
   ]
  },
  {
   "cell_type": "markdown",
   "id": "97f0a7c5-d180-4c49-9cd6-1e5eee991224",
   "metadata": {},
   "source": [
    "### 2.3.2 for循环"
   ]
  },
  {
   "cell_type": "code",
   "execution_count": null,
   "id": "e35dae18-6dc0-4004-bb28-828e064c766e",
   "metadata": {
    "tags": []
   },
   "outputs": [],
   "source": [
    "for i in 'python':\n",
    "    print(i)"
   ]
  },
  {
   "cell_type": "code",
   "execution_count": null,
   "id": "1fdcd65b-cf82-4fb7-bdbc-e1ab191343e3",
   "metadata": {
    "tags": []
   },
   "outputs": [],
   "source": [
    "# Let's try printing a list\n",
    "data_list = [1, 1, 2, 3, 5, 8]\n",
    "\n",
    "# While loops are the basic type\n",
    "i = 0\n",
    "while i < len(data_list):\n",
    "    print(data_list[i])\n",
    "    i = i + 1\n",
    "    \n",
    "# The above type of loop is so common that the 'for' loop is the way to write it faster.\n",
    "print(\"Let's try that again\")\n",
    "# This is most similar to for loops in matlab\n",
    "for i in range(0, len(data_list)):\n",
    "    print(data_list[i])\n",
    "\n",
    "print(\"One more time:\")\n",
    "# Or you can do so even neater\n",
    "for ee in data_list:\n",
    "    print(ee)"
   ]
  },
  {
   "cell_type": "markdown",
   "id": "54bf3902-d90b-4c37-b513-43341c2bb92a",
   "metadata": {},
   "source": [
    "### 2.4 函数(Function)\n",
    "函数是组织好的，可重复使用的，用来实现单一，或相关联功能的代码段。<br>\n",
    "函数能提高应用的模块性，和代码的重复利用率。你已经知道Python提供了许多内建函数，比如print()。但你也可以自己创建函数，这被叫做用户自定义函数。\n",
    "\n",
    "你可以定义一个由自己想要功能的函数，以下是简单的规则：\n",
    "\n",
    "1. 函数代码块以 `def` 关键词开头，后接函数标识符名称和圆括号()。<br>\n",
    "2. 任何传入参数和自变量必须放在圆括号中间。圆括号之间可以用于定义参数。<br>\n",
    "3. 函数的第一行语句可以选择性地使用文档字串—用于存放函数说明。<br>\n",
    "4. 函数内容以冒号起始，并且缩进。<br>\n",
    "5. return结束函数，选择性地返回一个值给调用方。"
   ]
  },
  {
   "cell_type": "code",
   "execution_count": null,
   "id": "03c10293-42b9-4026-90d0-aff961666bb0",
   "metadata": {
    "tags": []
   },
   "outputs": [],
   "source": [
    "def print_me(string):\n",
    "    print(string)\n",
    "    return  # End with the \"return\" keyword"
   ]
  },
  {
   "cell_type": "code",
   "execution_count": null,
   "id": "6c63f7d3-98f8-4cea-ba19-0b36f4a8c86b",
   "metadata": {
    "tags": []
   },
   "outputs": [],
   "source": [
    "print_me('aa')"
   ]
  },
  {
   "cell_type": "code",
   "execution_count": null,
   "id": "0091fd8d-3a31-4836-8c22-4d04fc17a26f",
   "metadata": {
    "tags": []
   },
   "outputs": [],
   "source": [
    "# 定义另一个函数\n",
    "def step(x):\n",
    "    if x < 0:\n",
    "        return -1\n",
    "    elif x > 0:\n",
    "        return 1"
   ]
  },
  {
   "cell_type": "code",
   "execution_count": null,
   "id": "788de8a1-80a9-443a-86ff-adac5535e57f",
   "metadata": {
    "tags": []
   },
   "outputs": [],
   "source": [
    "# 调用函数\n",
    "print(step(-5))\n",
    "print(step(10))"
   ]
  },
  {
   "cell_type": "code",
   "execution_count": null,
   "id": "793265c8-6b49-454a-939f-bdaeecee8e96",
   "metadata": {
    "tags": []
   },
   "outputs": [],
   "source": [
    "# what happens for x = 0?\n",
    "print(step(0))\n",
    "# Python automatically adds in a \"return none\" statement if you are missing one. \n",
    "# If you see \"none\" make sure your program can work with that!"
   ]
  },
  {
   "cell_type": "code",
   "execution_count": null,
   "id": "c3ca07b0-6dd2-4dbe-b025-35acb27f9d05",
   "metadata": {
    "tags": []
   },
   "outputs": [],
   "source": [
    "# Fix the return none issue\n",
    "def step_v2(x):\n",
    "    if x < 0:\n",
    "        return -1\n",
    "    elif x >= 0:\n",
    "        return 1\n",
    "    \n",
    "print(step_v2(0))"
   ]
  },
  {
   "cell_type": "markdown",
   "id": "add7cfae-90c5-4e77-9831-af096542724d",
   "metadata": {},
   "source": [
    "#### 2.4.1 参数\n",
    "<font color='tomato'><b>形式参数</b></font>\\\n",
    "<font color='tomato'><b>实际参数</b></font>\n",
    "\n",
    "<font color='dodgerblue'><b>必备参数</b></font>\\\n",
    "<font color='dodgerblue'><b>关键字参数</b></font>\\\n",
    "<font color='dodgerblue'><b>默认参数</b></font>\\\n",
    "<font color='dodgerblue'><b>不定长参数</b></font>"
   ]
  },
  {
   "cell_type": "markdown",
   "id": "02285516-de3e-47b4-9610-f0831407ddad",
   "metadata": {},
   "source": [
    "<font color='tomato'><b>形式参数</b></font>\\\n",
    "定义或创建函数时，函数名称后面括号中的参数是形式参数，用于接收调用函数时传递的值。"
   ]
  },
  {
   "cell_type": "code",
   "execution_count": null,
   "id": "be69c630-0b7a-4fbe-ac66-e8911a3f9c71",
   "metadata": {
    "tags": []
   },
   "outputs": [],
   "source": [
    "def add_numbers(a,b):\n",
    "    sum = a + b\n",
    "    return sum"
   ]
  },
  {
   "cell_type": "markdown",
   "id": "d1fe668b-5eb0-40d5-add0-37df230d798c",
   "metadata": {},
   "source": [
    "<font color='tomato'><b>实际参数</b></font>\\\n",
    "调用函数时，函数名称后面括号中的参数是实际参数，也就是函数调用者提供给函数的参数，即实参。"
   ]
  },
  {
   "cell_type": "code",
   "execution_count": null,
   "id": "33becbd9-275f-4685-bbb1-8e32824c678a",
   "metadata": {
    "tags": []
   },
   "outputs": [],
   "source": [
    "add_numbers(5,3)"
   ]
  },
  {
   "cell_type": "markdown",
   "id": "177faf12-c847-4559-8722-1c151690ea6c",
   "metadata": {
    "tags": []
   },
   "source": [
    "<font color='dodgerblue'><b>必备参数</b></font>\\\n",
    "须以正确的顺序传入函数。调用时的数量必须和声明时的一样。"
   ]
  },
  {
   "cell_type": "code",
   "execution_count": null,
   "id": "82b20ee6-b143-4f81-a754-21a01b1bf766",
   "metadata": {
    "tags": []
   },
   "outputs": [],
   "source": [
    "# 调用printme()函数，你必须传入一个参数，不然会出现语法错误：\n",
    "\n",
    "#可写函数说明\n",
    "def printme(string):\n",
    "    print(string)\n",
    "    return\n",
    " \n",
    "#调用printme函数\n",
    "printme()"
   ]
  },
  {
   "cell_type": "code",
   "execution_count": null,
   "id": "7b5dd160-55c1-4dfb-9b78-9e3a84aff137",
   "metadata": {
    "tags": []
   },
   "outputs": [],
   "source": [
    "printme('hello')"
   ]
  },
  {
   "cell_type": "markdown",
   "id": "327139d1-003d-43e9-b60b-3db696d1d9c7",
   "metadata": {},
   "source": [
    "<font color='dodgerblue'><b>关键字参数</b></font>\\\n",
    "函数调用时使用关键字参数来确定传入的参数值。\\\n",
    "使用关键字参数允许函数调用时参数的顺序与声明时不一致，因为 Python 解释器能够用参数名匹配参数值。"
   ]
  },
  {
   "cell_type": "code",
   "execution_count": null,
   "id": "1c18f8b8-a8cb-43a0-a609-4b5bd007747e",
   "metadata": {
    "tags": []
   },
   "outputs": [],
   "source": [
    "def printinfo(name, age):\n",
    "    print(\"Name: \", name)\n",
    "    print(\"Age \", age)\n",
    "    return\n",
    " \n",
    "#调用printinfo函数\n",
    "printinfo(age=50, name=\"miki\")"
   ]
  },
  {
   "cell_type": "markdown",
   "id": "74209bf2-a584-4316-a42f-155fdba2b8c8",
   "metadata": {},
   "source": [
    "<font color='dodgerblue'><b>默认参数</b></font>\\\n",
    "调用函数时，默认参数的值如果没有传入，则被认为是默认值。"
   ]
  },
  {
   "cell_type": "code",
   "execution_count": null,
   "id": "82003247-435b-4dac-bd54-34b6e3af3e06",
   "metadata": {
    "tags": []
   },
   "outputs": [],
   "source": [
    "def printinfo(name, age=30):\n",
    "    print(\"Name: \", name)\n",
    "    print(\"Age \", age)\n",
    "    return\n",
    " \n",
    "#调用printinfo函数\n",
    "printinfo(\"miki\")"
   ]
  },
  {
   "cell_type": "markdown",
   "id": "f7e2083e-5e57-4922-a90d-61e072dcb50f",
   "metadata": {
    "tags": []
   },
   "source": [
    "<font color='dodgerblue'><b>不定长参数</b></font>\\\n",
    "你可能需要一个函数能处理比当初声明时更多的参数。这些参数叫做不定长参数，和上述2种参数不同，声明时不会命名。"
   ]
  },
  {
   "cell_type": "code",
   "execution_count": null,
   "id": "76cf292d-f61d-4899-b02d-e7a30ffc7a91",
   "metadata": {
    "tags": []
   },
   "outputs": [],
   "source": [
    "def printinfo(arg1, *vartuple):\n",
    "    print(arg1)\n",
    "    for var in vartuple:\n",
    "        print(var*2)\n",
    "    return\n",
    " \n",
    "# 调用printinfo 函数\n",
    "printinfo(10)\n",
    "\n",
    "printinfo(70, 60, 50, 40)"
   ]
  },
  {
   "cell_type": "markdown",
   "id": "22e200a2-65fa-448f-9f03-1f90468fec6b",
   "metadata": {
    "tags": []
   },
   "source": [
    "<font color='limegreen'><b>匿名函数：lambda</b></font>"
   ]
  },
  {
   "cell_type": "code",
   "execution_count": null,
   "id": "56401534-f3d0-44fd-a2b7-85c729891f4f",
   "metadata": {
    "tags": []
   },
   "outputs": [],
   "source": [
    "sum = lambda x1, x2: x1+x2"
   ]
  },
  {
   "cell_type": "code",
   "execution_count": null,
   "id": "0884e518-e991-4d4b-be29-5a60c2ffdbc2",
   "metadata": {
    "tags": []
   },
   "outputs": [],
   "source": [
    "sum(10,20)"
   ]
  },
  {
   "cell_type": "markdown",
   "id": "a4d53fa1-69fa-4adf-95e8-7de8949df436",
   "metadata": {},
   "source": [
    "#### 2.4.2 全局变量和局部变量\n",
    "定义在函数内部的变量称为局部变量（Local Variable），它的作用域范围为函数内。\n",
    "\n",
    "函数的外部定义变量，称为全局变量（Global Variable）。\n",
    "\n",
    "全局变量的默认作用域是整个程序，即全局变量既可以在各个函数的外部使用，也可以在各函数内部使用。"
   ]
  },
  {
   "cell_type": "code",
   "execution_count": null,
   "id": "0952858c-37b1-4a66-ad3c-1cad6c007b91",
   "metadata": {
    "tags": []
   },
   "outputs": [],
   "source": [
    "product = 100 # 全局变量 product\n",
    "\n",
    "def demo():\n",
    "    n = 10  # 局部变量 n\n",
    "    print(product)\n",
    "    return n"
   ]
  },
  {
   "cell_type": "code",
   "execution_count": null,
   "id": "3b653b25-5b8b-45c1-8430-bc9362d3fea9",
   "metadata": {},
   "outputs": [],
   "source": [
    "# 变量 product 在函数外定义，是全局变量，程序中任何位置使用它都可以。\n",
    "demo()"
   ]
  },
  {
   "cell_type": "code",
   "execution_count": null,
   "id": "985bf008-f3c1-434f-a563-bcca329cecf3",
   "metadata": {
    "tags": []
   },
   "outputs": [],
   "source": [
    "# 变量 n 在函数 demo 中定义，是局部变量，作用域范围在函数 demo() 内。\n",
    "print(n)"
   ]
  },
  {
   "cell_type": "markdown",
   "id": "5659da65-1e06-4979-90d4-20fd43fa33a1",
   "metadata": {},
   "source": [
    "如果要把函数内部的变成全局变量，则必须在该函数内将该变量以 global 赋值。"
   ]
  },
  {
   "cell_type": "code",
   "execution_count": null,
   "id": "332183a5-73e2-43ff-9564-1eaa93410f2d",
   "metadata": {
    "tags": []
   },
   "outputs": [],
   "source": [
    "a = 2 # 全局变量\n",
    "\n",
    "def test():\n",
    "    global a   # 声明 a 是全局变量，在该函数内部对a的操作就是对全局变量a的操作\n",
    "    a = 1      # 如果没有上一行代码，默认a就是函数内部的局部变量\n",
    "    print(a)\n",
    "    # 函数结束，局部变量的生命周期结束"
   ]
  },
  {
   "cell_type": "code",
   "execution_count": null,
   "id": "56328476-8e4a-4db8-9466-7e153750b7b3",
   "metadata": {
    "tags": []
   },
   "outputs": [],
   "source": [
    "test()\n",
    "\n",
    "# 输出全局变量a\n",
    "print(a)"
   ]
  },
  {
   "cell_type": "markdown",
   "id": "25088b3e-e648-451d-8da4-9e93d50d5241",
   "metadata": {
    "tags": []
   },
   "source": [
    "### <font color='darkorange'><b>ToDos</b></font>\n",
    "写一个函数，找出列表内最大值。"
   ]
  },
  {
   "cell_type": "code",
   "execution_count": null,
   "id": "6893a2e6-c10b-4b9a-a3b2-ac039cddddfc",
   "metadata": {
    "tags": []
   },
   "outputs": [],
   "source": [
    "def get_max(lst):\n",
    "    \"\"\"\n",
    "    返回列表lst的最大值\n",
    "    \n",
    "    \"\"\"\n",
    "    pass\n",
    "\n",
    "lst = [4, 2, 1, 6, 7, 9]\n",
    "max_value = get_max(lst)\n",
    "print(max_value)"
   ]
  },
  {
   "cell_type": "code",
   "execution_count": null,
   "id": "dc971d85-06fd-4e5c-9124-746bba3ed6f4",
   "metadata": {
    "jupyter": {
     "source_hidden": true
    },
    "tags": []
   },
   "outputs": [],
   "source": [
    "# Answer\n",
    "def get_max(lst):\n",
    "\n",
    "    if not lst:\n",
    "        return None\n",
    "    \n",
    "    max_value = lst[0]\n",
    "    for item in lst:\n",
    "        if item > max_value:\n",
    "            max_value = item\n",
    "\n",
    "    return max_value\n",
    "\n",
    "# 调用函数\n",
    "lst = [4, 2, 1, 6, 7, 9]\n",
    "max_value = get_max(lst)\n",
    "print(max_value)"
   ]
  },
  {
   "cell_type": "markdown",
   "id": "0dbcd5ac-3c93-4230-8c95-c38e20c5e541",
   "metadata": {},
   "source": [
    "### The End! -:)"
   ]
  }
 ],
 "metadata": {
  "kernelspec": {
   "display_name": "Python 3 (ipykernel)",
   "language": "python",
   "name": "python3"
  },
  "language_info": {
   "codemirror_mode": {
    "name": "ipython",
    "version": 3
   },
   "file_extension": ".py",
   "mimetype": "text/x-python",
   "name": "python",
   "nbconvert_exporter": "python",
   "pygments_lexer": "ipython3",
   "version": "3.11.7"
  }
 },
 "nbformat": 4,
 "nbformat_minor": 5
}
