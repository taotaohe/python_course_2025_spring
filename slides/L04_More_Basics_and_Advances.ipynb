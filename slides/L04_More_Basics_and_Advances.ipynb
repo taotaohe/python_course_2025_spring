{
 "cells": [
  {
   "cell_type": "markdown",
   "id": "db592212-7725-42ee-8876-98b9ed87de83",
   "metadata": {},
   "source": [
    "# Lecture 3: More Basics and Advances"
   ]
  },
  {
   "cell_type": "markdown",
   "id": "4906a549-80a7-4bed-9021-9b2639138ae2",
   "metadata": {},
   "source": [
    "### 3.1 Python 文件I/O\n",
    "本章只讲述基本的 I/O 函数，更多函数请参考Python标准文档。"
   ]
  },
  {
   "cell_type": "code",
   "execution_count": null,
   "id": "deb6bfe8-d3ab-4a32-a041-d49f5f244de0",
   "metadata": {
    "tags": []
   },
   "outputs": [],
   "source": [
    "# 读取键盘输入\n",
    "str = input(\"请输入：\")\n",
    "print(\"你输入的内容是: \", str)"
   ]
  },
  {
   "cell_type": "markdown",
   "id": "37f21d12-247e-4b7c-9d43-5f9b2dde5b61",
   "metadata": {},
   "source": [
    "### 3.2 打开和关闭文件"
   ]
  },
  {
   "cell_type": "markdown",
   "id": "7553be31-8011-4df9-9053-af0b5e691408",
   "metadata": {},
   "source": [
    "**open 函数**\n",
    "\n",
    "你必须先用Python内置的open()函数打开一个文件，创建一个file对象，相关的方法才可以调用它进行读写。\n",
    "\n",
    "语法：\\\n",
    "`file object = open(file_name [, access_mode][, buffering])`\n",
    "\n",
    "* file_name：file_name变量是一个包含了你要访问的文件名称的字符串值。\n",
    "* \n",
    "access_mode：access_mode决定了打开文件的模式：只读，写入，追加等。所有可取值见如下的完全列表。这个参数是非强制的，默认文件访问模式为只读(r)\n",
    "* \n",
    "buffering:如果buffering的值被设为0，就不会有寄存。如果buffering的值取1，访问文件时会寄存行。如果将buffering的值设为大于1的整数，表明了这就是的寄存区的缓冲大小。如果取负值，寄存区的缓冲大小则为系统默认。\n",
    "\n",
    "<img src=\"figures/open_file_mode.png\" alt=\"open_file_mode\" width=\"600\"/>"
   ]
  },
  {
   "cell_type": "markdown",
   "id": "31452600-d65c-4557-b426-09089f0ee2cc",
   "metadata": {},
   "source": [
    "让我们来打开一个文件并写入一些文字！"
   ]
  },
  {
   "cell_type": "code",
   "execution_count": null,
   "id": "5c2278c7-ee8e-4d86-bc03-ca03dd6e0ce1",
   "metadata": {
    "tags": []
   },
   "outputs": [],
   "source": [
    "file = open('my_first_file.txt', 'w')"
   ]
  },
  {
   "cell_type": "code",
   "execution_count": null,
   "id": "4b7fd0f9-a5c6-4be2-a21f-ecd3049d51f9",
   "metadata": {
    "tags": []
   },
   "outputs": [],
   "source": [
    "file.write('this is the first line.\\n')"
   ]
  },
  {
   "cell_type": "code",
   "execution_count": null,
   "id": "10f7563d-5df2-40e2-a6d1-e71800cd5482",
   "metadata": {
    "tags": []
   },
   "outputs": [],
   "source": [
    "file.write('this is the second line.\\n')"
   ]
  },
  {
   "cell_type": "code",
   "execution_count": null,
   "id": "6c4c3c59-8c58-4eff-8f40-d223e49627d9",
   "metadata": {
    "tags": []
   },
   "outputs": [],
   "source": [
    "file.close()"
   ]
  },
  {
   "cell_type": "markdown",
   "id": "35547dd4-fa8e-4230-9440-d9c0efae5aae",
   "metadata": {},
   "source": [
    "改变写入模式试一试"
   ]
  },
  {
   "cell_type": "code",
   "execution_count": null,
   "id": "36a25621-acd1-43b3-a0cc-c10957d926d5",
   "metadata": {
    "tags": []
   },
   "outputs": [],
   "source": [
    "file = open('my_first_file.txt', 'a+') # 追加模式"
   ]
  },
  {
   "cell_type": "code",
   "execution_count": null,
   "id": "a8ef0c71-96bd-46d7-a153-8bb9054c3063",
   "metadata": {
    "tags": []
   },
   "outputs": [],
   "source": [
    "file.write('this is the third line.\\n')"
   ]
  },
  {
   "cell_type": "code",
   "execution_count": null,
   "id": "82363f63-e8bd-41a2-9088-9f53d066d1dd",
   "metadata": {
    "tags": []
   },
   "outputs": [],
   "source": [
    "file.close()"
   ]
  },
  {
   "cell_type": "markdown",
   "id": "07285e01-5347-4c42-810c-34dd57fcea82",
   "metadata": {
    "tags": []
   },
   "source": [
    "### <font color='darkorange'><b>ToDos</b></font>\n",
    "打开一个csv表格并写入一些数据！"
   ]
  },
  {
   "cell_type": "code",
   "execution_count": null,
   "id": "bb6957f9-bad1-433b-bdbb-bdb272214ecd",
   "metadata": {
    "jupyter": {
     "source_hidden": true
    },
    "tags": []
   },
   "outputs": [],
   "source": [
    "# Answer\n",
    "file = open('my_first_excel.csv', 'w')\n",
    "file.write('subjID, subjName, subjGender, subjAge\\n')\n",
    "file.close()"
   ]
  },
  {
   "cell_type": "code",
   "execution_count": null,
   "id": "7c945e39-7610-4b5f-b270-b7ec1db7fdf3",
   "metadata": {},
   "outputs": [],
   "source": []
  },
  {
   "cell_type": "markdown",
   "id": "2f901ac6-0fa4-4ecf-90f1-56e89059243b",
   "metadata": {},
   "source": [
    "File对象的属性"
   ]
  },
  {
   "cell_type": "code",
   "execution_count": null,
   "id": "78c159a8-194e-40d5-b988-8feeae375e12",
   "metadata": {
    "tags": []
   },
   "outputs": [],
   "source": [
    "file.name"
   ]
  },
  {
   "cell_type": "code",
   "execution_count": null,
   "id": "66ddb912-cc20-4d79-ba59-1d31c3cba3bd",
   "metadata": {
    "tags": []
   },
   "outputs": [],
   "source": [
    "file.mode"
   ]
  },
  {
   "cell_type": "code",
   "execution_count": null,
   "id": "51af2181-9a5e-4666-b18c-461df6fa71e7",
   "metadata": {
    "tags": []
   },
   "outputs": [],
   "source": [
    "file.closed"
   ]
  },
  {
   "cell_type": "markdown",
   "id": "321b97e6-f4e4-4f86-93c3-ab6dba8090a4",
   "metadata": {},
   "source": [
    "File对象的方法"
   ]
  },
  {
   "cell_type": "code",
   "execution_count": null,
   "id": "8e2b603b-724f-4f83-8747-adb35583394c",
   "metadata": {
    "tags": []
   },
   "outputs": [],
   "source": [
    "foo = open('my_first_file.txt','r+')"
   ]
  },
  {
   "cell_type": "code",
   "execution_count": null,
   "id": "08f615be-c311-44c8-948f-f81fd1e8603c",
   "metadata": {
    "tags": []
   },
   "outputs": [],
   "source": [
    "foo.read(23) # 参数是要从已打开文件中读取的字节计数"
   ]
  },
  {
   "cell_type": "code",
   "execution_count": null,
   "id": "a17df567-7e35-43f1-bbaf-9c2726017bfe",
   "metadata": {
    "tags": []
   },
   "outputs": [],
   "source": [
    "foo.read()"
   ]
  },
  {
   "cell_type": "code",
   "execution_count": null,
   "id": "13b4bd03-90ad-43ef-9640-3ebba3f13f26",
   "metadata": {
    "tags": []
   },
   "outputs": [],
   "source": [
    "# 读取一整行，包括\\n\n",
    "foo.readline()"
   ]
  },
  {
   "cell_type": "markdown",
   "id": "2338983a-e715-4a58-b4ba-f09e2ec32126",
   "metadata": {},
   "source": [
    "重命名和删除文件"
   ]
  },
  {
   "cell_type": "code",
   "execution_count": null,
   "id": "0b49f6e4-27b1-4a2c-b0e7-a7b5cd2ca734",
   "metadata": {
    "tags": []
   },
   "outputs": [],
   "source": [
    "import os\n",
    " \n",
    "os.rename(\"my_first_file.txt\", \"first_file.txt\")"
   ]
  },
  {
   "cell_type": "code",
   "execution_count": null,
   "id": "994a98a9-c652-4bb0-843b-94f9b05e5e6f",
   "metadata": {
    "tags": []
   },
   "outputs": [],
   "source": [
    "os.remove(\"first_file.txt\")"
   ]
  },
  {
   "cell_type": "markdown",
   "id": "4c63b016-961e-4fdc-bfdc-76c9981f1847",
   "metadata": {},
   "source": [
    "### 3.3 Python目录操作"
   ]
  },
  {
   "cell_type": "code",
   "execution_count": null,
   "id": "e3ffa002-810b-43bf-89da-ea7a8e9f9f04",
   "metadata": {
    "tags": []
   },
   "outputs": [],
   "source": [
    "# 创建新的目录\n",
    "os.mkdir(\"test_folder\")"
   ]
  },
  {
   "cell_type": "code",
   "execution_count": null,
   "id": "15a4bfab-a579-4ee9-a386-25f1bde2bd9e",
   "metadata": {
    "tags": []
   },
   "outputs": [],
   "source": [
    "# 先判断是否已有相同的目录存在，再创建\n",
    "if not os.path.exists('test_folder'): \n",
    "    os.mkdir('test_folder')"
   ]
  },
  {
   "cell_type": "code",
   "execution_count": null,
   "id": "6a9057c3-8169-4fa0-91b6-fa38b8876953",
   "metadata": {
    "tags": []
   },
   "outputs": [],
   "source": [
    "# 获取当前的工作路径\n",
    "os.getcwd()"
   ]
  },
  {
   "cell_type": "code",
   "execution_count": null,
   "id": "328bdad7-c023-4e2d-b578-3e94e3857b39",
   "metadata": {
    "tags": []
   },
   "outputs": [],
   "source": [
    "# 改变当前工作路径\n",
    "os.chdir(\"/Users/taohe/Dropbox/Work/Courses\")"
   ]
  },
  {
   "cell_type": "code",
   "execution_count": null,
   "id": "fbd82bd3-70f1-48d2-9df8-d19df8def744",
   "metadata": {
    "tags": []
   },
   "outputs": [],
   "source": [
    "os.getcwd()"
   ]
  },
  {
   "cell_type": "code",
   "execution_count": null,
   "id": "84da2863-5670-400a-8b05-eecfad6f26c7",
   "metadata": {
    "tags": []
   },
   "outputs": [],
   "source": [
    "# 删除路径\n",
    "os.rmdir(\"./python_course/test_folder\")"
   ]
  },
  {
   "cell_type": "markdown",
   "id": "1653fd9e-67b9-418f-82d2-1e4a7802f700",
   "metadata": {},
   "source": [
    "### 3.4 高级教程\n",
    "### 类 (Class)\n",
    "类(Class)是用来描述具有相同属性(Attribute)和方法(Method)对象的集合。对象(Object)是类(Class)的具体实例。\n",
    "\n",
    "内心os：看不懂，看不懂……"
   ]
  },
  {
   "cell_type": "markdown",
   "id": "4b88bcc4-e571-4a37-8983-0ea6cee42b44",
   "metadata": {},
   "source": [
    "那我们要先从面向对象编程讲起……\n",
    "\n",
    "<font color='limegreen'><b>面向对象编程</b></font>是相对于<font color='limegreen'><b>面向过程编程</b></font>（函数式编程），它们都是程序设计的方法，不过有所区别。（os: 还是看不懂……）\n",
    "\n",
    "在面向过程程序设计中，问题被看作一系列需要完成的任务，函数则用于完成这些任务，解决问题的焦点集中于函数，C语言是最常见的面向过程的编程语言。\n",
    "\n",
    "面向对象编程（Object Oriented Programming，OOP）是一种程序设计思想。它把对象作为程序的基本单元，一个对象包含了数据和操作数据的函数，相同属性和操作方法的对象被抽象为类。类（Class）就是“模具”，而对象（Object）就是使用模具生产出的零件，对象就是类的<font color='limegreen'><b>实例（Instance）</b></font>。Python 是面向对象编程的语言。\n",
    "\n",
    "算了，举个栗子吧。。。"
   ]
  },
  {
   "cell_type": "markdown",
   "id": "2683155f-9d0f-4411-9c18-a7bf4e03d2c2",
   "metadata": {},
   "source": [
    "### 例子\n",
    "问题： 洗衣机里面放有脏衣服，怎么洗干净？\n",
    "\n",
    "面向过程的解决方法：\n",
    "\n",
    "1、执行加洗衣粉方法；\n",
    "\n",
    "2、执行加水方法；\n",
    "\n",
    "3、执行洗衣服方法；\n",
    "\n",
    "4、执行清洗方法；\n",
    "\n",
    "5、 执行烘干方法；\n",
    "\n",
    "以上就是将解决这个问题的过程拆成一个个方法（是没有对象去调用的），通过一个个方法的执行来解决问题。\n",
    "\n",
    "面向对象的解决方法：\n",
    "\n",
    "1、我先弄出两个对象：“<font color='blue'><b>洗衣机</b></font>”对象和“<font color='limegreen'><b>人</b></font>”对象\n",
    "\n",
    "2、针对对象“洗衣机”加入一些属性和方法：“洗衣服方法”“清洗方法”、“烘干方法”\n",
    "\n",
    "3、针对对象“人”加入属性和方法：“加洗衣粉方法”、“加水方法”\n",
    "\n",
    "4、然后执行：\n",
    "\n",
    "* <font color='limegreen'><b>人</b></font>.加洗衣粉\n",
    "\n",
    "* <font color='limegreen'><b>人</b></font>.加水\n",
    "\n",
    "* <font color='blue'><b>洗衣机</b></font>.洗衣服\n",
    "\n",
    "* <font color='blue'><b>洗衣机</b></font>.清洗\n",
    "\n",
    "* <font color='blue'><b>洗衣机</b></font>.烘干\n",
    "\n",
    "解决同一个问题 ，面向对象编程就是先抽象出对象，然后用对象执行方法的方式解决问题。"
   ]
  },
  {
   "cell_type": "markdown",
   "id": "f1a393b9-4436-455c-a2ee-33b179e78ae9",
   "metadata": {},
   "source": [
    "### 再举一个例子：对象和类的关系是什么？\n",
    "\n",
    "类是用来创建对象的。\n",
    "\n",
    "在海滩上一群小孩子在堆沙堡，他们先把沙子装进不同的塑料模具里，然后再把成型的沙子倒出来，堆成一个个漂亮的沙堡。一个制造沙堡柱子的塑料模具可以制造出无数个带有相同花纹的沙柱。在工业制造上，使用模具来铸造机壳和零件更是司空见惯。所以在计算机编程语言中引入“模具”来制造用来编程的“零件”也就顺其自然了。\n",
    "\n",
    "\n",
    "面向对象编程中，将变量（属性）和函数（方法）进一步封装成类，类才是程序的基本元素。类（Class）就是上面所说的模具，而对象（Object）就是使用模具生产出的零件，对象就是类的实例（Instance）。"
   ]
  },
  {
   "cell_type": "code",
   "execution_count": null,
   "id": "b57fcfd0-7e29-4cc9-b329-5429fd09d3e1",
   "metadata": {
    "tags": []
   },
   "outputs": [],
   "source": [
    "# 需求：造一台洗衣机；功能：洗衣服\n",
    "# step 1：定义洗衣机类\n",
    "class Washer:\n",
    "    def wash(self):\n",
    "        print(\"正在洗衣服……\")\n",
    "\n",
    "# step 2：通过类创建对象\n",
    "my_haier_washer = Washer()\n",
    "# print(my_haier_washer)\n",
    "\n",
    "# step 3: 实现功能\n",
    "my_haier_washer.wash()"
   ]
  },
  {
   "cell_type": "markdown",
   "id": "2745ed4e-0616-4363-96b7-c448607737c3",
   "metadata": {},
   "source": [
    "面向对象编程主要有以下三个基本特征：\n",
    "<font color='limegreen'><b>继承</b></font>、<font color='limegreen'><b>多态</b></font>、<font color='limegreen'><b>封装</b></font>。\n",
    "* 继承（Inheritance）：继承使子类具有父类的各种属性和方法，而不需要编写相同的代码。\n",
    "* 多态（Polymorphism）：为不同的数据类型的实体提供统一的接口。\n",
    "* 封装（Encapsulation）：对外部世界隐藏对象的工作细节。\n",
    "\n",
    "使用面向对象编程有以下优点：\n",
    "* 提高软件开发的生产效率\n",
    "* \n",
    "使软件的可维护性更\n",
    "* \n",
    "提高软件的质量口。"
   ]
  },
  {
   "cell_type": "markdown",
   "id": "ea3cd189-14a5-4de9-b130-c3dd0ae9ada5",
   "metadata": {},
   "source": [
    "### 创建一个新类（Class）\n",
    "每个类都有自己的属性（attribute）和方法（method），比如一个人的身高、体重和年龄，这些都是属性，而吃饭、说话和写作业等都是方法。\\\n",
    "类的定义以class为开头，类名的首字母推荐要大写，冒号之后换行缩进紧跟着属性和方法的定义，属性无非就是一个变量的定义，而方法就是函数的定义。"
   ]
  },
  {
   "cell_type": "markdown",
   "id": "d49f8da0-7f71-41d9-85f1-e9235bf661fb",
   "metadata": {},
   "source": [
    "刚才我们造洗衣机，现在我们来造人……\\\n",
    "假设我们是一个来自未来的科技公司，我们公司主要业务是生产仿真人。"
   ]
  },
  {
   "cell_type": "code",
   "execution_count": null,
   "id": "11b6b96f-d4ff-4682-82cc-6d248e61d866",
   "metadata": {
    "tags": []
   },
   "outputs": [],
   "source": [
    "class Person:\n",
    "    \n",
    "    name = 'Bob'\n",
    "    age = 30\n",
    "    \n",
    "    def greet(self):\n",
    "        print(\"Hi, my name is \" + self.name)\n",
    "        \n",
    "p1 = Person()\n",
    "p1.greet()"
   ]
  },
  {
   "cell_type": "code",
   "execution_count": null,
   "id": "ef9e34a4-8a58-40e8-b510-d2320ac96232",
   "metadata": {
    "tags": []
   },
   "outputs": [],
   "source": [
    "# step 1：定义仿真人的类\n",
    "class Person:\n",
    "    \n",
    "    # attribute 属性\n",
    "    name = 'William'\n",
    "    age = 45\n",
    "    \n",
    "    # method 方法\n",
    "    def greet(self):\n",
    "        print(\"Hi, my name is \" + self.name)\n",
    "        # print(self)\n",
    "        \n",
    "# step 2：通过类创建对象\n",
    "p1 = Person()\n",
    "\n",
    "# step 3: 调用方法或属性\n",
    "p1.greet()"
   ]
  },
  {
   "cell_type": "markdown",
   "id": "6918ee88-5846-40f7-8ed6-77e51045d9d8",
   "metadata": {},
   "source": [
    "在greet方法中，我们使用了特殊参数self，它永远指向创建的实例本身，所以self.name就会指向当前被创建实例的name属性。"
   ]
  },
  {
   "cell_type": "markdown",
   "id": "cf185625-c9fd-4868-ae12-5a08b22080a3",
   "metadata": {},
   "source": [
    "我们也可以在创建好实例之后，对它的属性和方法进行修改："
   ]
  },
  {
   "cell_type": "code",
   "execution_count": null,
   "id": "1bd1199d-ca49-401c-9d9f-79355aeebb0a",
   "metadata": {
    "tags": []
   },
   "outputs": [],
   "source": [
    "# Modify Object Properties\n",
    "p1.age = 20\n",
    "p1.age"
   ]
  },
  {
   "cell_type": "code",
   "execution_count": null,
   "id": "f6db6e20-ed7e-4920-ab89-4782b6d89629",
   "metadata": {
    "tags": []
   },
   "outputs": [],
   "source": [
    "# 修改的只是p1实例的属性\n",
    "p2 = Person()\n",
    "p2.age"
   ]
  },
  {
   "cell_type": "code",
   "execution_count": null,
   "id": "d3ecd4d6-cb13-45b4-83f1-fc7e4d04fc8c",
   "metadata": {
    "tags": []
   },
   "outputs": [],
   "source": [
    "# Add Object Properties\n",
    "p1.gender = 'male'\n",
    "p1.gender"
   ]
  },
  {
   "cell_type": "code",
   "execution_count": null,
   "id": "df4ed8dc-5c5f-4d9a-bd61-513dd518bd59",
   "metadata": {
    "tags": []
   },
   "outputs": [],
   "source": [
    "# Delete Object Properties\n",
    "del p1.gender"
   ]
  },
  {
   "cell_type": "code",
   "execution_count": null,
   "id": "482a48a0-2f17-46e3-a145-58d0bcef157c",
   "metadata": {
    "tags": []
   },
   "outputs": [],
   "source": [
    "p1.gender"
   ]
  },
  {
   "cell_type": "code",
   "execution_count": null,
   "id": "c27ec582-c48f-4f02-9b59-3dec305e2cf2",
   "metadata": {
    "tags": []
   },
   "outputs": [],
   "source": [
    "# Delete Object\n",
    "del p1"
   ]
  },
  {
   "cell_type": "code",
   "execution_count": null,
   "id": "98958f08-e609-4d7b-94b6-9cd66546b756",
   "metadata": {
    "tags": []
   },
   "outputs": [],
   "source": [
    "p1"
   ]
  },
  {
   "cell_type": "markdown",
   "id": "e58eaed7-a588-44d3-b4ec-3cd65cf430a2",
   "metadata": {
    "tags": []
   },
   "source": [
    "### <font color='darkorange'><b>ToDos</b></font>\n",
    "创建一个名为robot的新类，包含姓名、性别和国籍等属性，以及speak方法输出”My name is xx, I'm from xx!“。"
   ]
  },
  {
   "cell_type": "code",
   "execution_count": null,
   "id": "67b9b64f-9829-483f-b112-117e9262090f",
   "metadata": {
    "jupyter": {
     "source_hidden": true
    },
    "tags": []
   },
   "outputs": [],
   "source": [
    "# Answer\n",
    "class robot:\n",
    "    \n",
    "    name = \"Xiao Ming\"\n",
    "    country = \"China\"\n",
    "    gender = \"male\"\n",
    "  \n",
    "    def speak(self):\n",
    "        print(\"My name is %s, I'm from %s！\" %(self.name, self.country))\n",
    "        \n",
    "r1 = robot()\n",
    "r1.speak()"
   ]
  },
  {
   "cell_type": "markdown",
   "id": "93590737-eb0d-438b-bc58-580f794d9cf0",
   "metadata": {},
   "source": [
    "###"
   ]
  },
  {
   "cell_type": "markdown",
   "id": "479debba-d797-4552-b424-20ce91e553c1",
   "metadata": {},
   "source": [
    "__init__ 是 Python 中的特殊方法（special method），它用于初始化对象。它是一个实例被创建时最先被调用的函数，并且每次创建实例，它的`__init__`都会被调用，而且它的第一个参数永远是 self，指向创建的实例本身。（init是initial的简写，顾名思义就是用来初始化的）"
   ]
  },
  {
   "cell_type": "code",
   "execution_count": null,
   "id": "ef1ed185-1627-446a-a60b-53a70c0bcc7e",
   "metadata": {},
   "outputs": [],
   "source": [
    "class Person:\n",
    "    # 初始化方法\n",
    "    def __init__(self): # 双下划线！！\n",
    "        self.name = 'Alice'\n",
    "        \n",
    "    def greet(self):\n",
    "        print(\"Hi, my name is \" + self.name)\n",
    "        \n",
    "p1 = Person()\n",
    "p1.greet()"
   ]
  },
  {
   "cell_type": "markdown",
   "id": "52121024-bdbd-4ce1-b497-386bb265b8e4",
   "metadata": {},
   "source": [
    "我们也可以在__init__方法中添加其他参数，这样我们的的初始化能更加灵活和方便，同时在创建实例的时候，需要传入与__init__方法匹配的参数："
   ]
  },
  {
   "cell_type": "code",
   "execution_count": null,
   "id": "ebb17a8f-6e7e-469f-a280-2259a34dcf82",
   "metadata": {},
   "outputs": [],
   "source": [
    "class Person:\n",
    "    def __init__(self, init_name):\n",
    "        self.name = init_name\n",
    "        \n",
    "    def greet(self):\n",
    "        print(\"Hi, my name is \" + self.name)\n",
    "        \n",
    "p1 = Person(\"Bob\")\n",
    "p1.greet()"
   ]
  },
  {
   "cell_type": "markdown",
   "id": "18691d25-dfaf-4438-95e5-c693200cf106",
   "metadata": {},
   "source": [
    "### 继承和多态（Inheritance，Polymorphism）"
   ]
  },
  {
   "cell_type": "markdown",
   "id": "da5e7b4f-fc17-4ed9-a8d0-a2898d45ce6e",
   "metadata": {},
   "source": [
    "#### 继承\n",
    "在面向对象编程中，当我们已经创建了一个类，而又想再创建一个与之相似的类，比如添加几个方法，或者修改原来的方法，这时我们不必从头开始，可以从原来的类派生出一个新的类，我们把原来的类称为父类或基类，而派生出的类称为子类，子类继承了父类的所有数据和方法。\n",
    "\n",
    "让我们看一个简单的例子，首先我们定义一个 Animal 类："
   ]
  },
  {
   "cell_type": "code",
   "execution_count": null,
   "id": "fcf4e29e-e01a-40c2-9071-b53b76b14797",
   "metadata": {},
   "outputs": [],
   "source": [
    "class Animal:\n",
    "    def __init__(self, name):\n",
    "        self.name = name\n",
    "    def greet(self):\n",
    "        print('Hello, I am %s.' % self.name)"
   ]
  },
  {
   "cell_type": "markdown",
   "id": "e0934a85-3a0b-4b2b-9c4f-b010414c4f65",
   "metadata": {},
   "source": [
    "现在，我们想创建一个 Dog 类，比如：\n"
   ]
  },
  {
   "cell_type": "code",
   "execution_count": null,
   "id": "ec024cdd-41db-4ea7-b421-bb8afbf90257",
   "metadata": {},
   "outputs": [],
   "source": [
    "class Dog:\n",
    "    def __init__(self, name):\n",
    "        self.name = name\n",
    "    def greet(self):\n",
    "        print('WangWang.., I am %s. ' % self.name)"
   ]
  },
  {
   "cell_type": "markdown",
   "id": "37e7612c-823c-40cd-912a-06d6a8dcb7b4",
   "metadata": {},
   "source": [
    "可以看到，Dog 类和 Animal 类几乎是一样的，只是 greet 方法不一样，我们完全没必要创建一个新的类，可以直接创建子类（child class）来继承父类Animal："
   ]
  },
  {
   "cell_type": "code",
   "execution_count": null,
   "id": "93c1bbf4-6af2-4de1-b8bf-c09a255e11fd",
   "metadata": {},
   "outputs": [],
   "source": [
    "class Dog(Animal):\n",
    "    def greet(self):\n",
    "        print('WangWang.., I am %s. ' % self.name)"
   ]
  },
  {
   "cell_type": "markdown",
   "id": "c3732181-e474-4bce-8dd6-413ce1081e5e",
   "metadata": {},
   "source": [
    "Dog 类是从 Animal 类继承而来的，Dog 类自动获得了 Animal 类的所有数据和方法，而且还可以对从父类继承来的方法进行修改，调用的方式是一样的："
   ]
  },
  {
   "cell_type": "code",
   "execution_count": null,
   "id": "c4e5f1c2-d6d1-4ec6-a2f2-1da439e8a838",
   "metadata": {},
   "outputs": [],
   "source": [
    "animal = Animal('animal')\n",
    "animal.greet()\n",
    "\n",
    "dog = Dog('doggy')\n",
    "dog.greet()"
   ]
  },
  {
   "cell_type": "markdown",
   "id": "b20b737b-f0e3-4865-98c5-f71e0bc40ae7",
   "metadata": {},
   "source": [
    "#### 多态\n",
    "多态的概念其实不难理解，它是指对不同类型的参数进行相同的操作，根据对象（或类）类型的不同而表现出不同的行为。继承可以拿到父类的所有数据和方法，子类可以重写父类的方法，也可以新增自己特有的方法。有了继承，才有了多态，这样才能实现为不同的数据类型的实体提供统一的接口。"
   ]
  },
  {
   "cell_type": "code",
   "execution_count": null,
   "id": "4fcd0533-068b-4ec2-8fd3-b974c30eefbc",
   "metadata": {
    "tags": []
   },
   "outputs": [],
   "source": [
    "class Animal():\n",
    "    def __init__(self, name):\n",
    "        self.name = name\n",
    "    def greet(self):\n",
    "        print(f'Hello, I am {self.name}.')\n",
    "\n",
    "class Dog(Animal):\n",
    "    def greet(self):\n",
    "        print(f'WangWang.., I am {self.name}.')\n",
    "\n",
    "class Cat(Animal):\n",
    "    def greet(self):\n",
    "        print(f'MiaoMiao.., I am {self.name}')\n",
    "\n",
    "# hello是我们的接口，每次调用接口时，就会输出该类的greet方法\n",
    "def hello(animal):\n",
    "    animal.greet()"
   ]
  },
  {
   "cell_type": "code",
   "execution_count": null,
   "id": "c1282cb1-caa4-45b3-8105-75bcbb4bb39c",
   "metadata": {
    "tags": []
   },
   "outputs": [],
   "source": [
    "# 实例化\n",
    "dog = Dog('dog')\n",
    "cat = Cat('cat')\n",
    "\n",
    "# 只需要调用hello接口，就可以实现不同的方法\n",
    "hello(dog)\n",
    "hello(cat)"
   ]
  },
  {
   "cell_type": "markdown",
   "id": "0f32705a-8a03-4a91-a1a9-16da06b3ceb8",
   "metadata": {},
   "source": [
    "### The End!"
   ]
  }
 ],
 "metadata": {
  "kernelspec": {
   "display_name": "Python 3 (ipykernel)",
   "language": "python",
   "name": "python3"
  },
  "language_info": {
   "codemirror_mode": {
    "name": "ipython",
    "version": 3
   },
   "file_extension": ".py",
   "mimetype": "text/x-python",
   "name": "python",
   "nbconvert_exporter": "python",
   "pygments_lexer": "ipython3",
   "version": "3.11.7"
  }
 },
 "nbformat": 4,
 "nbformat_minor": 5
}
