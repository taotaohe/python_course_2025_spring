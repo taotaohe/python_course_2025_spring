{
 "cells": [
  {
   "cell_type": "markdown",
   "id": "04a10c2c-2eb7-400e-94b2-5750823dd0b1",
   "metadata": {},
   "source": [
    "# Lecture 9: Numpy Basics"
   ]
  },
  {
   "cell_type": "markdown",
   "id": "047e6cf6-be4e-4d27-beb2-a31fbb4f3b7c",
   "metadata": {},
   "source": [
    "NumPy（Numerical Python的简称）是Python数值计算最重要的基础包。大多数提供科学计算的包都是用NumPy的数组作为构建基础。\n",
    "\n",
    "NumPy的部分功能如下：\n",
    "\n",
    "- ndarray，一个具有矢量算术运算和复杂广播能力的快速且节省空间的多维数组。\n",
    "- 用于对整组数据进行快速运算的标准数学函数（无需编写循环）。\n",
    "- 用于读写磁盘数据的工具以及用于操作内存映射文件的工具。\n",
    "- 线性代数、随机数生成以及傅里叶变换功能。\n",
    "- 用于集成由C、C++、Fortran等语言编写的代码的A C API。\n",
    "\n",
    "由于NumPy提供了一个简单易用的C API，因此很容易将数据传递给由低级语言编写的外部库，外部库也能以NumPy数组的形式将数据返回给Python。这个功能使Python成为一种包装C/C++/Fortran历史代码库的选择，并使被包装库拥有一个动态的、易用的接口。\n",
    "\n",
    "NumPy本身并没有提供多么高级的数据分析功能，理解NumPy数组以及面向数组的计算将有助于你更加高效地使用诸如pandas之类的工具。因为NumPy是一个很大的题目，我会在下一节介绍更多NumPy高级功能，比如广播。\n",
    "\n",
    "对于大部分数据分析应用而言，我们最关注的功能主要集中在：\n",
    "\n",
    "- 用于数据整理和清理、子集构造和过滤、转换等快速的矢量化数组运算。\n",
    "- 常用的数组算法，如排序、唯一化、集合运算等。\n",
    "- 高效的描述统计和数据聚合/摘要运算。\n",
    "- 用于异构数据集的合并/连接运算的数据对齐和关系型数据运算。\n",
    "- 将条件逻辑表述为数组表达式（而不是带有if-elif-else分支的循环）。\n",
    "- 数据的分组运算（聚合、转换、函数应用等）。\n",
    "\n",
    "虽然NumPy提供了通用的数值数据处理的计算基础，但大多数读者可能还是想将pandas作为统计和分析工作的基础，尤其是处理表格数据时。pandas还提供了一些NumPy所没有的领域特定的功能，如时间序列处理等。\n",
    "\n",
    ">笔记：Python的面向数组计算可以追溯到1995年，Jim Hugunin创建了Numeric库。接下来的10年，许多科学编程社区纷纷开始使用Python的数组编程，但是进入21世纪，库的生态系统变得碎片化了。2005年，Travis Oliphant从Numeric和Numarray项目整合出了NumPy项目，进而所有社区都集合到了这个框架下。\n",
    "\n",
    "NumPy之于数值计算特别重要的原因之一，是因为它可以高效处理大数组的数据。这是因为：\n",
    "\n",
    "- NumPy是在一个连续的内存块中存储数据，独立于其他Python内置对象。NumPy的C语言编写的算法库可以操作内存，而不必进行类型检查或其它前期工作。比起Python的内置序列，NumPy数组使用的内存更少。\n",
    "- NumPy可以在整个数组上执行复杂的计算，而不需要Python的for循环。\n",
    "\n",
    "要搞明白具体的性能差距，让我们来对比一个包含一百万整数的数组和一个等价的Python列表："
   ]
  },
  {
   "cell_type": "code",
   "execution_count": null,
   "id": "2ef0c230-934f-463e-9491-3959755f1d7b",
   "metadata": {
    "tags": []
   },
   "outputs": [],
   "source": [
    "import numpy as np\n",
    "\n",
    "my_arr = np.arange(1000000)\n",
    "my_list = list(range(1000000))"
   ]
  },
  {
   "cell_type": "markdown",
   "id": "938cbcb2-3c48-4f89-97ad-f02c8752e5a9",
   "metadata": {},
   "source": [
    "让它们分别乘以2："
   ]
  },
  {
   "cell_type": "code",
   "execution_count": null,
   "id": "831efd74-f73e-48e5-9ea3-1cfe1b40cdd7",
   "metadata": {
    "tags": []
   },
   "outputs": [],
   "source": [
    "%timeit my_arr2 = my_arr * 2\n",
    "%timeit my_list2 = [x * 2 for x in my_list]"
   ]
  },
  {
   "cell_type": "markdown",
   "id": "9e62231a-e668-40d0-9453-d43dcfcdfbc0",
   "metadata": {},
   "source": [
    "基于NumPy的算法要比纯Python快10到100倍（甚至更快），并且使用的内存更少。"
   ]
  },
  {
   "cell_type": "markdown",
   "id": "96c9bd16-2fb9-4c85-b99a-d5f472b93009",
   "metadata": {},
   "source": [
    "# NumPy的ndarray：一种多维数组对象\n",
    "NumPy最重要的一个特点就是其N维数组对象（即ndarray），该对象是一个快速而灵活的大数据集容器。你可以利用这种数组对整块数据执行一些数学运算，其语法跟标量元素之间的运算一样。"
   ]
  },
  {
   "cell_type": "markdown",
   "id": "8166a0ab-2895-4f02-999c-33c649e626ea",
   "metadata": {},
   "source": [
    "我们来看一下Python是如何利用与标量值类似的语法进行批次计算的："
   ]
  },
  {
   "cell_type": "code",
   "execution_count": null,
   "id": "57d6b8f6-df44-4cb2-b72d-e954f7f3de0d",
   "metadata": {
    "tags": []
   },
   "outputs": [],
   "source": [
    "data = np.array([[1.5, -0.1, 3], [0, -3, 6.5]])\n",
    "data"
   ]
  },
  {
   "cell_type": "code",
   "execution_count": null,
   "id": "47cecb16-8415-4d2e-a0c1-d1ec381138fd",
   "metadata": {
    "tags": []
   },
   "outputs": [],
   "source": [
    "data * 10"
   ]
  },
  {
   "cell_type": "code",
   "execution_count": null,
   "id": "e69c8592-5bf7-4c92-b7c2-d706b6f82cb3",
   "metadata": {},
   "outputs": [],
   "source": [
    "data + data"
   ]
  },
  {
   "cell_type": "markdown",
   "id": "24e33ac6-8dfc-4f1b-9b82-b6dc1d53bc3e",
   "metadata": {},
   "source": [
    "ndarray是一个通用的同构数据多维容器，也就是说，其中的所有元素必须是相同类型的。每个数组都有一个shape（一个表示各维度大小的元组）和一个dtype（一个用于说明数组数据类型的对象）："
   ]
  },
  {
   "cell_type": "code",
   "execution_count": null,
   "id": "895dc8ec-aac5-40ea-9c45-317c2fa6a2b6",
   "metadata": {
    "tags": []
   },
   "outputs": [],
   "source": [
    "print(data.shape)\n",
    "print(data.dtype)"
   ]
  },
  {
   "cell_type": "markdown",
   "id": "c1486973-9af3-4df4-8f1e-25ecc3b5a6ea",
   "metadata": {},
   "source": [
    "## 创建ndarray数组\n",
    "创建数组最简单的办法就是使用array函数。它接受一切序列型的对象（包括其他数组），然后产生一个新的含有传入数据的NumPy数组。以一个列表的转换为例："
   ]
  },
  {
   "cell_type": "code",
   "execution_count": null,
   "id": "a5a1d6b7-55dc-4a49-a9c9-f2c469e8d5b1",
   "metadata": {
    "tags": []
   },
   "outputs": [],
   "source": [
    "data1 = [6, 7.5, 8, 0, 1]\n",
    "arr1 = np.array(data1)\n",
    "arr1"
   ]
  },
  {
   "cell_type": "code",
   "execution_count": null,
   "id": "218ef637-8383-4fba-8897-ea0b9e2eb816",
   "metadata": {},
   "outputs": [],
   "source": [
    "arr1.shape"
   ]
  },
  {
   "cell_type": "markdown",
   "id": "d51fcb2e-c867-4ac4-86fe-7fed0872de2d",
   "metadata": {},
   "source": [
    "嵌套序列（比如由一组等长列表组成的列表）将会被转换为一个多维数组："
   ]
  },
  {
   "cell_type": "code",
   "execution_count": null,
   "id": "bcaee0e8-f053-43dd-b0e2-805cb10e09b1",
   "metadata": {
    "tags": []
   },
   "outputs": [],
   "source": [
    "data2 = [[1, 2, 3, 4], [5, 6, 7, 8]]\n",
    "arr2 = np.array(data2)\n",
    "arr2"
   ]
  },
  {
   "cell_type": "code",
   "execution_count": null,
   "id": "ae3b03fa-e044-49bf-ada1-b9c27ea7224a",
   "metadata": {},
   "outputs": [],
   "source": [
    "data3 = [[[1, 2, 3, 4], [5, 6, 7, 8]], [[1, 2, 3, 4], [5, 6, 7, 8]]]\n",
    "arr3 = np.array(data3)\n",
    "arr3"
   ]
  },
  {
   "cell_type": "code",
   "execution_count": null,
   "id": "f185a300-8ffb-4e49-a850-a0bf88dc1fd4",
   "metadata": {},
   "outputs": [],
   "source": [
    "arr3.shape"
   ]
  },
  {
   "cell_type": "code",
   "execution_count": null,
   "id": "c4e4d1a1-9dd6-4573-ac3c-a0f10d08167f",
   "metadata": {
    "tags": []
   },
   "outputs": [],
   "source": [
    "print(arr2.ndim)\n",
    "print(arr2.shape)"
   ]
  },
  {
   "cell_type": "markdown",
   "id": "d3a4d940-f4e8-4d30-b8dc-05a4213f5cb2",
   "metadata": {},
   "source": [
    "除非特别说明（稍后将会详细介绍），np.array会尝试为新建的这个数组推断出一个较为合适的数据类型。数据类型保存在一个特殊的dtype对象中。比如说，在上面的两个例子中，我们有："
   ]
  },
  {
   "cell_type": "code",
   "execution_count": null,
   "id": "603cece9-4863-4506-8a00-69c35ac4c000",
   "metadata": {
    "tags": []
   },
   "outputs": [],
   "source": [
    "print(arr1.dtype)\n",
    "print(arr2.dtype)"
   ]
  },
  {
   "cell_type": "markdown",
   "id": "a1d6f40b-ead1-45f1-a138-7abfdc1313fc",
   "metadata": {},
   "source": [
    "除np.array之外，还有一些函数也可以新建数组。比如，zeros和ones分别可以创建指定长度或形状的全0或全1数组。empty可以创建一个没有任何具体值的数组。要用这些方法创建多维数组，只需传入一个表示形状的元组即可："
   ]
  },
  {
   "cell_type": "code",
   "execution_count": null,
   "id": "13be7bda-611b-4a1c-afdd-1960884cafce",
   "metadata": {
    "tags": []
   },
   "outputs": [],
   "source": [
    "np.zeros(10)"
   ]
  },
  {
   "cell_type": "code",
   "execution_count": null,
   "id": "849fdd61-a0ef-4219-8dc1-ea1baa051ceb",
   "metadata": {
    "tags": []
   },
   "outputs": [],
   "source": [
    "np.zeros((3, 6))"
   ]
  },
  {
   "cell_type": "code",
   "execution_count": null,
   "id": "50354d72-ba12-4e0d-b08d-71da13b3e18c",
   "metadata": {
    "tags": []
   },
   "outputs": [],
   "source": [
    "np.empty((2, 3, 2))"
   ]
  },
  {
   "cell_type": "code",
   "execution_count": null,
   "id": "3396898c-1cd7-4306-af03-435ab821fe76",
   "metadata": {},
   "outputs": [],
   "source": [
    "np.ones(10)"
   ]
  },
  {
   "cell_type": "markdown",
   "id": "5336f636-d1b1-4efb-8e65-af4ae330ba2f",
   "metadata": {},
   "source": [
    "arange是Python内置函数range的数组版："
   ]
  },
  {
   "cell_type": "code",
   "execution_count": null,
   "id": "a61170a7-ca63-48ad-8b0b-c46cb1eddc9b",
   "metadata": {},
   "outputs": [],
   "source": [
    "list(range(15))"
   ]
  },
  {
   "cell_type": "code",
   "execution_count": null,
   "id": "b33035f6-f66a-47c2-a3c4-cc50399919d5",
   "metadata": {
    "tags": []
   },
   "outputs": [],
   "source": [
    "np.arange(15)"
   ]
  },
  {
   "cell_type": "code",
   "execution_count": null,
   "id": "dc99f10f-7239-434f-8853-8364fe837f6a",
   "metadata": {},
   "outputs": [],
   "source": [
    "np.ones_like(list(range(15)))"
   ]
  },
  {
   "cell_type": "markdown",
   "id": "da310b15-f9c4-4a17-8a11-49f223eca51a",
   "metadata": {},
   "source": [
    "表4-1列出了一些数组创建函数。由于NumPy关注的是数值计算，因此，如果没有特别指定，数据类型基本都是float64（浮点数）。\n",
    "\n",
    "<img src=\"figures/creating_array.png\" alt=\"creating_array\" width=\"800\"/>"
   ]
  },
  {
   "cell_type": "markdown",
   "id": "69d15003-583b-4d23-b9ed-4e9bfd786dda",
   "metadata": {},
   "source": [
    "## ndarray的数据类型\n",
    "数值型dtype的命名方式相同：一个类型名（如float或int），后面跟一个用于表示各元素位长的数字。标准的双精度浮点值（即Python中的float对象）需要占用8字节（即64位）。"
   ]
  },
  {
   "cell_type": "code",
   "execution_count": null,
   "id": "24581417-76cb-452a-aaf4-103e49fdf9f6",
   "metadata": {},
   "outputs": [],
   "source": [
    "arr1 = np.array([1, 2, 3], dtype=np.float64)\n",
    "arr2 = np.array([1, 2, 3], dtype=np.int32)\n",
    "print(arr1.dtype)\n",
    "print(arr2.dtype)"
   ]
  },
  {
   "cell_type": "code",
   "execution_count": null,
   "id": "bef9ad80-38e3-486f-93b1-ec151dbf5489",
   "metadata": {},
   "outputs": [],
   "source": [
    "arr1"
   ]
  },
  {
   "cell_type": "code",
   "execution_count": null,
   "id": "1bb18603-520f-4698-a730-6a2325957695",
   "metadata": {},
   "outputs": [],
   "source": [
    "arr2"
   ]
  },
  {
   "cell_type": "markdown",
   "id": "f3dafc11-f4f4-4b64-9797-dd08662839d6",
   "metadata": {},
   "source": [
    "<font color='limegreen'><b>Tips and Tricks</b></font>\\\n",
    "记不住这些NumPy的dtype也没关系。通常只需要知道你所处理的数据的大致类型是浮点数、复数、整数、布尔值、字符串，还是普通的Python对象即可。当你需要控制数据在内存和磁盘中的存储方式时（尤其是对大数据集），那就得了解如何控制存储类型。"
   ]
  },
  {
   "cell_type": "markdown",
   "id": "d303af78-bd37-4087-bd5a-8659eeb484fb",
   "metadata": {},
   "source": [
    "你可以通过**astype**方法将数组从一个dtype转换成另一个dtype："
   ]
  },
  {
   "cell_type": "code",
   "execution_count": null,
   "id": "b165e4ee-97bf-452b-9f03-8a1b7eba4caf",
   "metadata": {},
   "outputs": [],
   "source": [
    "arr = np.array([1, 2, 3, 4, 5])\n",
    "print(arr)\n",
    "print(arr.dtype)"
   ]
  },
  {
   "cell_type": "code",
   "execution_count": null,
   "id": "21867851-9aee-4833-aabd-771a73191477",
   "metadata": {},
   "outputs": [],
   "source": [
    "float_arr = arr.astype(np.float64)\n",
    "\n",
    "print(float_arr)\n",
    "print(float_arr.dtype)"
   ]
  },
  {
   "cell_type": "markdown",
   "id": "3f93919e-fdfc-4c79-86e3-38dfb618028d",
   "metadata": {},
   "source": [
    "如果将浮点数转换成整数，则小数部分将会被截取删除："
   ]
  },
  {
   "cell_type": "code",
   "execution_count": null,
   "id": "a648a535-a1a4-49f4-824f-72679e9c79e3",
   "metadata": {},
   "outputs": [],
   "source": [
    "arr = np.array([3.7, -1.2, -2.6, 0.5, 12.9, 10.1])\n",
    "arr"
   ]
  },
  {
   "cell_type": "code",
   "execution_count": null,
   "id": "b3cd6e5a-f74c-4027-9e42-b7fe3b9b6794",
   "metadata": {},
   "outputs": [],
   "source": [
    "arr.astype(np.int32)"
   ]
  },
  {
   "cell_type": "markdown",
   "id": "e72ab131-6c68-4eb2-a365-af51acd06ab8",
   "metadata": {},
   "source": [
    "## NumPy数组的运算\n",
    "数组很重要，因为它使你不用编写循环即可对数据执行批量运算。NumPy用户称其为矢量化（vectorization）。大小相等的数组之间的任何算术运算都会将运算应用到元素级："
   ]
  },
  {
   "cell_type": "code",
   "execution_count": null,
   "id": "b9266414-1dcf-4064-a4d1-7d610e820acc",
   "metadata": {},
   "outputs": [],
   "source": [
    "arr = np.array([[1., 2., 3.], [4., 5., 6.]])\n",
    "print(arr)"
   ]
  },
  {
   "cell_type": "code",
   "execution_count": null,
   "id": "adb18ed2-24df-4a9d-b436-91d8834bd5c8",
   "metadata": {},
   "outputs": [],
   "source": [
    "print(arr * arr)\n",
    "print(arr - arr)"
   ]
  },
  {
   "cell_type": "markdown",
   "id": "af266702-ad82-4976-8f17-8ffce25e20dd",
   "metadata": {},
   "source": [
    "数组与标量的算术运算会将标量值传播(broadcast)到各个元素："
   ]
  },
  {
   "cell_type": "code",
   "execution_count": null,
   "id": "06a800e0-3cc7-41fb-b86c-1f7d66fd81fb",
   "metadata": {},
   "outputs": [],
   "source": [
    "print(1 / arr)\n",
    "print(arr ** 3)"
   ]
  },
  {
   "cell_type": "markdown",
   "id": "6b32aaae-a186-404a-a930-c6d01eb277e8",
   "metadata": {},
   "source": [
    "大小相同的数组之间的比较会生成布尔值数组："
   ]
  },
  {
   "cell_type": "code",
   "execution_count": null,
   "id": "07a2acd4-7245-4bf4-a6e4-ab6b1e94a5b8",
   "metadata": {},
   "outputs": [],
   "source": [
    "arr2 = np.array([[0., 4., 1.], [7., 2., 12.]])\n",
    "arr2"
   ]
  },
  {
   "cell_type": "code",
   "execution_count": null,
   "id": "241711e7-a84f-4c2a-88fa-d1b31ed23d19",
   "metadata": {},
   "outputs": [],
   "source": [
    "arr2 > arr"
   ]
  },
  {
   "cell_type": "markdown",
   "id": "359b74fb-4b71-4aa1-aa64-fc50708e0993",
   "metadata": {},
   "source": [
    "## 基本的索引和切片\n",
    "NumPy数组的索引是一个内容丰富的主题，因为选取数据子集或单个元素的方式有很多。\\\n",
    "一维数组很简单。从表面上看，它们跟Python列表的功能差不多："
   ]
  },
  {
   "cell_type": "code",
   "execution_count": null,
   "id": "99432d41-72dd-4b28-9e49-4e1ae7d3d372",
   "metadata": {},
   "outputs": [],
   "source": [
    "arr = np.arange(10)\n",
    "arr"
   ]
  },
  {
   "cell_type": "code",
   "execution_count": null,
   "id": "b27c4c09-64e0-4d87-a93b-a48d11d7a9cc",
   "metadata": {},
   "outputs": [],
   "source": [
    "arr[5:8] = 12"
   ]
  },
  {
   "cell_type": "code",
   "execution_count": null,
   "id": "88798028-7e6e-45a4-9add-b2af6bcd73af",
   "metadata": {},
   "outputs": [],
   "source": [
    "arr"
   ]
  },
  {
   "cell_type": "code",
   "execution_count": null,
   "id": "d6d43351-fe19-4183-9ba3-ed5c389c17eb",
   "metadata": {},
   "outputs": [],
   "source": [
    "arr[5]\n",
    "arr[5:8]\n",
    "\n",
    "arr[5:8] = 12\n",
    "arr"
   ]
  },
  {
   "cell_type": "markdown",
   "id": "3f4ec5ca-8c51-44c0-854c-370f29a5623e",
   "metadata": {},
   "source": [
    "跟列表最重要的区别在于，数组切片是原始数组的视图。这意味着数据不会被复制，视图上的任何修改都会直接反映到源数组上。\\\n",
    "作为例子，先创建一个arr的切片："
   ]
  },
  {
   "cell_type": "code",
   "execution_count": null,
   "id": "4be18caa-58b4-4607-ab57-66333bd646d6",
   "metadata": {},
   "outputs": [],
   "source": [
    "arr_slice = arr[5:8]\n",
    "arr_slice"
   ]
  },
  {
   "cell_type": "markdown",
   "id": "49072fa7-1d50-48a0-bcc1-c4e8d16bf19d",
   "metadata": {},
   "source": [
    "现在，当我修改arr_slice中的值，变动也会体现在原始数组arr中："
   ]
  },
  {
   "cell_type": "code",
   "execution_count": null,
   "id": "e7f5fba7-4990-4caa-8dcd-a1992df5fdc1",
   "metadata": {},
   "outputs": [],
   "source": [
    "arr_slice[1] = 12345\n",
    "arr"
   ]
  },
  {
   "cell_type": "markdown",
   "id": "ca6cb7e3-c30e-4099-abc0-5ce3631659db",
   "metadata": {},
   "source": [
    "<font color='limegreen'><b>Tips and Tricks</b></font>\\\n",
    "为什么呢？\\\n",
    "由于NumPy的设计目的是处理大数据，所以你可以想象一下，假如NumPy坚持要将数据复制来复制去的话会产生何等的性能和内存问题。\n",
    "\n",
    "如果你想要得到的是ndarray切片的一份副本而非视图，就需要明确地进行复制操作，例如``arr[5:8].copy()``。"
   ]
  },
  {
   "cell_type": "code",
   "execution_count": null,
   "id": "5c2218cc-345e-4d10-ab62-3f8cece2b31d",
   "metadata": {},
   "outputs": [],
   "source": [
    "arr_copy = arr[5:8].copy()\n",
    "arr_copy[1] = 54321\n",
    "arr"
   ]
  },
  {
   "cell_type": "code",
   "execution_count": null,
   "id": "d0ca0973-c026-486a-915c-798800fc6a81",
   "metadata": {},
   "outputs": [],
   "source": [
    "arr_copy"
   ]
  },
  {
   "cell_type": "markdown",
   "id": "4ada0fde-4d6d-4cde-bc21-0a8212f8ee4c",
   "metadata": {},
   "source": [
    "对于高维度数组，能做的事情更多。在一个二维数组中，各索引位置上的元素不再是标量而是一维数组："
   ]
  },
  {
   "cell_type": "code",
   "execution_count": null,
   "id": "2d62e562-ae58-4344-854e-52ffbcbd1bd8",
   "metadata": {},
   "outputs": [],
   "source": [
    "arr2d = np.array([[1, 2, 3], [4, 5, 6], [7, 8, 9]])\n",
    "print(arr2d)\n",
    "print(arr2d.shape)\n",
    "print(arr2d[2])"
   ]
  },
  {
   "cell_type": "markdown",
   "id": "0eaf7a80-f345-4aa7-ac69-e82828494c43",
   "metadata": {},
   "source": [
    "如果索引第2个维度，用“，”隔开："
   ]
  },
  {
   "cell_type": "code",
   "execution_count": null,
   "id": "1127f76f-6a04-435d-82d4-984e05ab3e8a",
   "metadata": {},
   "outputs": [],
   "source": [
    "arr2d[0, 2]"
   ]
  },
  {
   "cell_type": "code",
   "execution_count": null,
   "id": "4c66eb97-a914-44be-b249-fdf069772cd4",
   "metadata": {},
   "outputs": [],
   "source": [
    "arr2d[1,2]"
   ]
  },
  {
   "cell_type": "markdown",
   "id": "08e7a7ce-a04f-407e-8378-944f4355dbca",
   "metadata": {},
   "source": [
    "下图说明了二维数组的索引方式。轴0作为行，轴1作为列。\n",
    "![numpy_axis](figures/numpy_axis.jpg)"
   ]
  },
  {
   "cell_type": "markdown",
   "id": "2fd89573-9846-46e6-9d0b-b74795d40f3b",
   "metadata": {},
   "source": [
    "在多维数组中，如果省略了后面的索引，则返回对象会是一个维度低一点的ndarray（它含有高一级维度上的所有数据）。因此，在2×2×3数组arr3d中："
   ]
  },
  {
   "cell_type": "code",
   "execution_count": null,
   "id": "35791751-8480-4fc8-97bb-0103e4ec0878",
   "metadata": {},
   "outputs": [],
   "source": [
    "arr3d = np.array([[[1, 2, 3], [4, 5, 6]], [[7, 8, 9], [10, 11, 12]]])\n",
    "arr3d"
   ]
  },
  {
   "cell_type": "code",
   "execution_count": null,
   "id": "440c7911-ba73-4333-b637-bfffc0c5098e",
   "metadata": {},
   "outputs": [],
   "source": [
    "arr3d.shape"
   ]
  },
  {
   "cell_type": "code",
   "execution_count": null,
   "id": "59106acf-f738-4629-8a8e-167d16f9eaaa",
   "metadata": {},
   "outputs": [],
   "source": [
    "arr3d[0].shape"
   ]
  },
  {
   "cell_type": "markdown",
   "id": "6a91d6e7-4ffd-46f4-aa18-66b5368fbe3f",
   "metadata": {},
   "source": [
    "标量值和数组都可以被赋值给arr3d[0]："
   ]
  },
  {
   "cell_type": "code",
   "execution_count": null,
   "id": "037d300a-d7f4-43e8-bdfa-d5f31cd8ef6f",
   "metadata": {},
   "outputs": [],
   "source": [
    "old_values = arr3d[0].copy()\n",
    "arr3d[0] = 42\n",
    "print(arr3d)\n",
    "arr3d[0] = old_values\n",
    "print(arr3d)"
   ]
  },
  {
   "cell_type": "markdown",
   "id": "a1b00321-16a6-4e29-89dc-5c93898dd6da",
   "metadata": {},
   "source": [
    "相似的，arr3d[1,0]可以访问索引以(1,0)开头的那些值（以一维数组的形式返回）："
   ]
  },
  {
   "cell_type": "code",
   "execution_count": null,
   "id": "53c74b12-dd38-4ff7-a83e-d6bfe3bccfe7",
   "metadata": {},
   "outputs": [],
   "source": [
    "arr3d[1, 0, 2]"
   ]
  },
  {
   "cell_type": "markdown",
   "id": "30030600-2759-4b16-874c-ea024759fc4f",
   "metadata": {},
   "source": [
    "### 切片索引\n",
    "ndarray的切片语法跟Python列表的切片类似："
   ]
  },
  {
   "cell_type": "code",
   "execution_count": null,
   "id": "86392f07-73b2-40e1-9e31-8af453d53bd2",
   "metadata": {},
   "outputs": [],
   "source": [
    "arr2d"
   ]
  },
  {
   "cell_type": "code",
   "execution_count": null,
   "id": "f5600dec-0d84-4e32-bead-41276484d337",
   "metadata": {},
   "outputs": [],
   "source": [
    "arr2d[:2]"
   ]
  },
  {
   "cell_type": "code",
   "execution_count": null,
   "id": "79cb11be-56b7-4c5c-9283-e47132f930a6",
   "metadata": {},
   "outputs": [],
   "source": [
    "arr2d[:2, 1:]"
   ]
  },
  {
   "cell_type": "code",
   "execution_count": null,
   "id": "a69c14b6-5b44-4223-9564-19515e208b6a",
   "metadata": {},
   "outputs": [],
   "source": [
    "arr2d[:2, 2]"
   ]
  },
  {
   "cell_type": "code",
   "execution_count": null,
   "id": "7f698aab-d2b6-41f0-b0e4-91c703f89df5",
   "metadata": {},
   "outputs": [],
   "source": [
    "arr2d[:, :1]"
   ]
  },
  {
   "cell_type": "code",
   "execution_count": null,
   "id": "d273adaf-7d55-44ba-b18f-5772fcbefe8a",
   "metadata": {},
   "outputs": [],
   "source": [
    "arr2d[:2, 1:] = 0\n",
    "arr2d"
   ]
  },
  {
   "cell_type": "markdown",
   "id": "92ab9ef2-c67c-4d21-ab38-8a6ebd5acb01",
   "metadata": {},
   "source": [
    "## 布尔型索引\n",
    "来看这样一个例子，假设我们有一个用于存储数据的数组以及一个存储姓名的数组（含有重复项）。在这里，我将使用numpy.random中的randn函数生成一些正态分布的随机数据："
   ]
  },
  {
   "cell_type": "code",
   "execution_count": null,
   "id": "7ff93c47-f164-4c07-8dbb-4941e1cdec40",
   "metadata": {},
   "outputs": [],
   "source": [
    "data = np.random.randn(7, 4)\n",
    "data"
   ]
  },
  {
   "cell_type": "code",
   "execution_count": null,
   "id": "a36110f0-933f-480b-8654-4f3735ce754a",
   "metadata": {},
   "outputs": [],
   "source": [
    "names = np.array([\"Bob\", \"Joe\", \"Will\", \"Bob\", \"Will\", \"Joe\", \"Joe\"])\n",
    "names"
   ]
  },
  {
   "cell_type": "markdown",
   "id": "613da05b-22bd-4bbb-8cfa-d775bad27ca2",
   "metadata": {},
   "source": [
    "如果我们想要选出对应于名字\"Bob\"的所有行："
   ]
  },
  {
   "cell_type": "code",
   "execution_count": null,
   "id": "5d9da185-7d1c-430b-8c8f-52e8ecb58962",
   "metadata": {},
   "outputs": [],
   "source": [
    "names == \"Bob\""
   ]
  },
  {
   "cell_type": "code",
   "execution_count": null,
   "id": "a5b2c6eb-0611-4704-a79f-033c38281f3d",
   "metadata": {},
   "outputs": [],
   "source": [
    "data[names == \"Bob\", :]"
   ]
  },
  {
   "cell_type": "markdown",
   "id": "8562bc19-6b2e-4b1e-a0d8-19ce45f42aef",
   "metadata": {},
   "source": [
    "布尔型数组的长度必须跟被索引的轴长度一致。此外，还可以将布尔型数组跟切片、整数（或整数序列，稍后将对此进行详细讲解）混合使用："
   ]
  },
  {
   "cell_type": "code",
   "execution_count": null,
   "id": "7f7828bb-838b-4da5-bb13-e67172f1c236",
   "metadata": {},
   "outputs": [],
   "source": [
    "data[names == \"Bob\", 1:]"
   ]
  },
  {
   "cell_type": "code",
   "execution_count": null,
   "id": "f9a0272d-72ce-45e0-a47e-6d44a0b23d82",
   "metadata": {},
   "outputs": [],
   "source": [
    "data[names == \"Bob\", 1]"
   ]
  },
  {
   "cell_type": "markdown",
   "id": "7106414f-105c-45d1-b289-8ecffe829e39",
   "metadata": {},
   "source": [
    "要选择除\"Bob\"以外的其他值，既可以使用不等于符号（!=），也可以通过~对条件进行否定："
   ]
  },
  {
   "cell_type": "code",
   "execution_count": null,
   "id": "0b109edb-90ba-40af-a4f4-d9c2209c7ade",
   "metadata": {},
   "outputs": [],
   "source": [
    "names != \"Bob\""
   ]
  },
  {
   "cell_type": "code",
   "execution_count": null,
   "id": "6992a7ea-c6c9-4568-88b3-95b6f71ba2da",
   "metadata": {},
   "outputs": [],
   "source": [
    "~(names == \"Bob\")"
   ]
  },
  {
   "cell_type": "code",
   "execution_count": null,
   "id": "9b533b06-a791-4ae0-a1e5-3442ad5a68c0",
   "metadata": {},
   "outputs": [],
   "source": [
    "data[~(names == \"Bob\")]"
   ]
  },
  {
   "cell_type": "markdown",
   "id": "e54dd942-ab3f-48d5-8f7e-e729c20241da",
   "metadata": {},
   "source": [
    "选取这三个名字中的两个需要组合应用多个布尔条件，使用&（和）、|（或）之类的布尔算术运算符即可："
   ]
  },
  {
   "cell_type": "code",
   "execution_count": null,
   "id": "305cd5f4-3b42-409e-8d95-bae590366092",
   "metadata": {},
   "outputs": [],
   "source": [
    "mask = (names == \"Bob\") | (names == \"Will\")\n",
    "data[mask]"
   ]
  },
  {
   "cell_type": "markdown",
   "id": "583399f0-bea8-4e3e-b33c-9319b24efd23",
   "metadata": {},
   "source": [
    "通过布尔型数组设置值是一种经常用到的手段。为了将data中的所有负值都设置为0，我们只需："
   ]
  },
  {
   "cell_type": "code",
   "execution_count": null,
   "id": "e974e45b-1435-441c-9027-ce047e384373",
   "metadata": {},
   "outputs": [],
   "source": [
    "data < 0"
   ]
  },
  {
   "cell_type": "code",
   "execution_count": null,
   "id": "de8ebae8-7884-444f-ac6d-126dae09bf65",
   "metadata": {},
   "outputs": [],
   "source": [
    "data[data < 0] = 0\n",
    "data"
   ]
  },
  {
   "cell_type": "markdown",
   "id": "dfa8c536-6deb-423b-bb19-f83467f2b49a",
   "metadata": {},
   "source": [
    "通过一维布尔数组设置整行或列的值也很简单："
   ]
  },
  {
   "cell_type": "code",
   "execution_count": null,
   "id": "35240346-5c7b-4318-8bb8-b012afb242c6",
   "metadata": {},
   "outputs": [],
   "source": [
    "data[names != \"Joe\"] = 7\n",
    "data"
   ]
  },
  {
   "cell_type": "markdown",
   "id": "e4d83ccb-18d7-4dd1-85eb-355e40713273",
   "metadata": {},
   "source": [
    "后面会看到，这类二维数据的操作也可以用pandas方便的来做。"
   ]
  },
  {
   "cell_type": "markdown",
   "id": "ce2023db-1a01-4ee4-81b3-9501067134a6",
   "metadata": {},
   "source": [
    "## 花式索引\n",
    "花式索引（Fancy indexing）是一个NumPy术语，它指的是利用整数数组进行索引。假设我们有一个8×4数组："
   ]
  },
  {
   "cell_type": "code",
   "execution_count": null,
   "id": "4ce1e970-fc2e-44e9-8fc5-fe1ab6f9330a",
   "metadata": {},
   "outputs": [],
   "source": [
    "arr = np.zeros((8, 4))\n",
    "for i in range(8):\n",
    "    arr[i] = i\n",
    "arr"
   ]
  },
  {
   "cell_type": "markdown",
   "id": "a1159111-509a-4ccd-914e-139a09919e2a",
   "metadata": {},
   "source": [
    "为了以特定顺序选取行子集，只需传入一个用于指定顺序的整数列表或ndarray即可："
   ]
  },
  {
   "cell_type": "code",
   "execution_count": null,
   "id": "72976c0d-9ffd-40ad-af53-99cffa759154",
   "metadata": {},
   "outputs": [],
   "source": [
    "arr[[4, 3, 0, 6]]"
   ]
  },
  {
   "cell_type": "markdown",
   "id": "46e5dfcd-8a01-46e8-88a9-2894974a2517",
   "metadata": {},
   "source": [
    "使用负数索引将会从末尾开始选取行："
   ]
  },
  {
   "cell_type": "code",
   "execution_count": null,
   "id": "10587255-a86f-4fd0-a3c8-01d24d62c385",
   "metadata": {},
   "outputs": [],
   "source": [
    "arr[[-3, -5, -7]]"
   ]
  },
  {
   "cell_type": "markdown",
   "id": "fd23a7f0-7f9d-4185-b8e9-bc8e00c31d40",
   "metadata": {},
   "source": [
    "一次传入多个索引数组会有一点特别。它返回的是一个一维数组，其中的元素对应各个索引元组："
   ]
  },
  {
   "cell_type": "code",
   "execution_count": null,
   "id": "16c544d5-bc03-41a3-a8b9-0297c03c348a",
   "metadata": {},
   "outputs": [],
   "source": [
    "arr = np.arange(32).reshape((8, 4))\n",
    "arr"
   ]
  },
  {
   "cell_type": "code",
   "execution_count": null,
   "id": "87f9d789-3532-4ee8-bff0-e36c968761cc",
   "metadata": {},
   "outputs": [],
   "source": [
    "arr[[1, 5, 7, 2], [0, 3, 1, 2]]"
   ]
  },
  {
   "cell_type": "markdown",
   "id": "b62500b0-d772-4161-97af-463c3ded1dad",
   "metadata": {},
   "source": [
    "最终选出的是元素(1,0)、(5,3)、(7,1)和(2,2)。无论数组是多少维的，花式索引总是一维的。"
   ]
  },
  {
   "cell_type": "markdown",
   "id": "58d51214-6872-448c-913c-152f02b77e80",
   "metadata": {},
   "source": [
    "这跟我们的预期不一样，通常我们认为选取矩阵的行列子集应该是矩形区域的形式才对。下面是得到该结果的一个办法："
   ]
  },
  {
   "cell_type": "code",
   "execution_count": null,
   "id": "05959b39-295d-4d16-b487-4c7984930a2a",
   "metadata": {},
   "outputs": [],
   "source": [
    "arr[[1, 5, 7, 2]][:, [0, 3, 1, 2]]"
   ]
  },
  {
   "cell_type": "markdown",
   "id": "fea917ce-13f2-4e7b-924d-66574d4d6585",
   "metadata": {},
   "source": [
    "## 数组转置和轴对换\n",
    "转置是重塑的一种特殊形式，它返回的是源数据的视图（不会进行任何复制操作）。数组不仅有transpose方法，还有一个特殊的T属性："
   ]
  },
  {
   "cell_type": "code",
   "execution_count": null,
   "id": "7440f1d1-48a4-41fa-be28-996c103072a4",
   "metadata": {},
   "outputs": [],
   "source": [
    "arr = np.arange(15).reshape((3, 5))\n",
    "arr"
   ]
  },
  {
   "cell_type": "code",
   "execution_count": null,
   "id": "5c90370b-3a8a-434d-a65b-c3085dfc504a",
   "metadata": {},
   "outputs": [],
   "source": [
    "arr.shape"
   ]
  },
  {
   "cell_type": "code",
   "execution_count": null,
   "id": "0fd241c4-c346-4f1d-a264-0bfc8867b883",
   "metadata": {},
   "outputs": [],
   "source": [
    "arr.T"
   ]
  },
  {
   "cell_type": "code",
   "execution_count": null,
   "id": "c88c640c-1ee8-4649-ac26-b33251749442",
   "metadata": {},
   "outputs": [],
   "source": [
    "arr.T.shape"
   ]
  },
  {
   "cell_type": "markdown",
   "id": "ac1f9601-5974-4342-a81f-373399a088d2",
   "metadata": {},
   "source": [
    "例如，在进行矩阵计算时，经常需要用到该操作，比如利用np.dot计算矩阵内积："
   ]
  },
  {
   "cell_type": "code",
   "execution_count": null,
   "id": "0391e0c5-d948-458d-b2c7-273fe2e35173",
   "metadata": {},
   "outputs": [],
   "source": [
    "arr = np.random.randn(6, 3)\n",
    "arr"
   ]
  },
  {
   "cell_type": "code",
   "execution_count": null,
   "id": "80147fa6-e0b2-4245-99bd-30a7a8efcbd1",
   "metadata": {},
   "outputs": [],
   "source": [
    "arr.T.shape"
   ]
  },
  {
   "cell_type": "code",
   "execution_count": null,
   "id": "1ec6e697-fd8c-433b-bce7-ce58bc650927",
   "metadata": {},
   "outputs": [],
   "source": [
    "arr.shape"
   ]
  },
  {
   "cell_type": "code",
   "execution_count": null,
   "id": "b2656723-d7b1-416a-9b3c-623f164a1678",
   "metadata": {},
   "outputs": [],
   "source": [
    "np.dot(arr.T, arr)"
   ]
  },
  {
   "cell_type": "markdown",
   "id": "e9f32447-8c86-455e-bc12-c63ccab3410b",
   "metadata": {},
   "source": [
    "对于高维数组，transpose需要得到一个由轴编号组成的元组才能对这些轴进行转置（比较费脑子）："
   ]
  },
  {
   "cell_type": "code",
   "execution_count": null,
   "id": "7db957a8-f620-4fc1-8cb9-fdcdbd2eb529",
   "metadata": {},
   "outputs": [],
   "source": [
    "arr = np.arange(24).reshape((2, 3, 4))\n",
    "arr"
   ]
  },
  {
   "cell_type": "code",
   "execution_count": null,
   "id": "1ade356b-9f45-4e7d-84d8-d154afedafbb",
   "metadata": {},
   "outputs": [],
   "source": [
    "arr.shape"
   ]
  },
  {
   "cell_type": "code",
   "execution_count": null,
   "id": "4f6e7671-d7bf-43d5-924a-0e540ef9647f",
   "metadata": {},
   "outputs": [],
   "source": [
    "arr_t = arr.transpose((2, 0, 1))\n",
    "arr_t"
   ]
  },
  {
   "cell_type": "code",
   "execution_count": null,
   "id": "07c3589e-3b5b-4372-b908-88884116dcb0",
   "metadata": {},
   "outputs": [],
   "source": [
    "# 这里，第一个轴被换成了第二个，第二个轴被换成了第一个，最后一个轴不变。\n",
    "arr_t.shape"
   ]
  },
  {
   "cell_type": "markdown",
   "id": "90296077-1ab1-4a2f-a333-6a150bff919d",
   "metadata": {},
   "source": [
    "简单的转置可以使用.T，它其实就是进行轴对换而已。ndarray还有一个swapaxes方法，它需要接受一对轴编号："
   ]
  },
  {
   "cell_type": "code",
   "execution_count": null,
   "id": "548be8bb-9fda-4ca7-9f06-b0d660bb2cc7",
   "metadata": {},
   "outputs": [],
   "source": [
    "arr.swapaxes(1, 2).shape"
   ]
  },
  {
   "cell_type": "markdown",
   "id": "0e9973f3-de74-4682-bc00-b877d1135cd7",
   "metadata": {},
   "source": [
    "## 通用函数：快速的元素级数组函数\n",
    "通用函数（即ufunc）是一种对ndarray中的数据执行元素级运算的函数。你可以将其看做简单函数（接受一个或多个标量值，并产生一个或多个标量值）的矢量化包装器。\n",
    "\n",
    "许多ufunc都是简单的元素级变体，如sqrt和exp："
   ]
  },
  {
   "cell_type": "code",
   "execution_count": null,
   "id": "3ed36855-b6b8-4350-b3e3-a3e912859131",
   "metadata": {},
   "outputs": [],
   "source": [
    "arr = np.arange(10)\n",
    "arr"
   ]
  },
  {
   "cell_type": "code",
   "execution_count": null,
   "id": "c8b6a32f-d599-4299-95eb-55ca6cbc4128",
   "metadata": {},
   "outputs": [],
   "source": [
    "np.sqrt(arr)"
   ]
  },
  {
   "cell_type": "code",
   "execution_count": null,
   "id": "262a2c0a-e14c-43ea-817b-f9f49db73721",
   "metadata": {},
   "outputs": [],
   "source": [
    "np.exp(arr) # e^x"
   ]
  },
  {
   "cell_type": "markdown",
   "id": "aa7d9fc6-7e7a-44c8-b9bc-74a270e10f61",
   "metadata": {},
   "source": [
    "numpy.maximum计算了x和y中元素级别最大的元素。"
   ]
  },
  {
   "cell_type": "code",
   "execution_count": null,
   "id": "22d3a472-a9f8-4ef4-9108-639a56517c33",
   "metadata": {},
   "outputs": [],
   "source": [
    "x = np.random.randn(8)\n",
    "y = np.random.randn(8)\n",
    "print(x)\n",
    "print(y)"
   ]
  },
  {
   "cell_type": "code",
   "execution_count": null,
   "id": "48162a7c-37da-48b2-ab32-a7180732ede7",
   "metadata": {},
   "outputs": [],
   "source": [
    "print(np.maximum(x, y))"
   ]
  },
  {
   "cell_type": "markdown",
   "id": "46029b7a-010e-4b1f-8d08-e639030d317a",
   "metadata": {},
   "source": [
    "![numpy_ufunc1](figures/numpy_ufunc1.jpg)\n",
    "![numpy_ufunc2](figures/numpy_ufunc2.jpg)\n",
    "![numpy_ufunc3](figures/numpy_ufunc3.jpg)"
   ]
  },
  {
   "cell_type": "markdown",
   "id": "04913563-a3b3-4910-8bc3-4d6c3be5899c",
   "metadata": {},
   "source": [
    "# 利用数组进行数据处理\n",
    "NumPy数组使你可以将许多种数据处理任务表述为简洁的数组表达式（否则需要编写循环）。用数组表达式代替循环的做法，通常被称为矢量化。一般来说，矢量化数组运算要比等价的纯Python方式快上一两个数量级（甚至更多），尤其是各种数值计算。\n",
    "\n",
    "举个简单的例子，假设我们想要在一组值（网格型）上计算函数sqrt(x^2+y^2)。np.meshgrid函数接受两个一维数组，并产生两个二维矩阵（对应于两个数组中所有的(x,y)对）："
   ]
  },
  {
   "cell_type": "code",
   "execution_count": null,
   "id": "ddc04783-5923-42dd-8940-0eac90a76e2f",
   "metadata": {},
   "outputs": [],
   "source": [
    "points = np.arange(-5, 5, 0.01) # 100 equally spaced points\n",
    "xs, ys = np.meshgrid(points, points)"
   ]
  },
  {
   "cell_type": "code",
   "execution_count": null,
   "id": "9d19733b-be01-44d3-9d14-575259cef74a",
   "metadata": {},
   "outputs": [],
   "source": [
    "xs"
   ]
  },
  {
   "cell_type": "code",
   "execution_count": null,
   "id": "2182b82b-4fe6-474b-aed3-c3e7e1f9e740",
   "metadata": {},
   "outputs": [],
   "source": [
    "ys"
   ]
  },
  {
   "cell_type": "code",
   "execution_count": null,
   "id": "e720723f-39c2-4d5c-968c-a6ac677673e3",
   "metadata": {},
   "outputs": [],
   "source": [
    "z = np.sqrt(xs ** 2 + ys ** 2)\n",
    "z"
   ]
  },
  {
   "cell_type": "markdown",
   "id": "f24b92f4-f85e-4b72-9932-e0cfbfa40ed1",
   "metadata": {},
   "source": [
    "我用matplotlib创建了这个二维数组的可视化："
   ]
  },
  {
   "cell_type": "code",
   "execution_count": null,
   "id": "5a9b09a5-b9cb-4d66-ac4b-18fcf0a42bf3",
   "metadata": {},
   "outputs": [],
   "source": [
    "import matplotlib.pyplot as plt\n",
    "plt.imshow(z, cmap=plt.cm.gray, extent=[-5, 5, -5, 5])\n",
    "plt.colorbar()\n",
    "plt.title(\"Image plot of $\\sqrt{x^2 + y^2}$ for a grid of values\")"
   ]
  },
  {
   "cell_type": "markdown",
   "id": "e35368bf-4db7-4bd2-9e20-370aa3060312",
   "metadata": {},
   "source": [
    "## 将条件逻辑表述为数组运算\n",
    "numpy.where函数是三元表达式x if condition else y的矢量化版本。假设我们有一个布尔数组和两个值数组："
   ]
  },
  {
   "cell_type": "code",
   "execution_count": null,
   "id": "e27499ce-5d3e-4560-b1e8-bca6a11d95aa",
   "metadata": {},
   "outputs": [],
   "source": [
    "xarr = np.array([1.1, 1.2, 1.3, 1.4, 1.5])\n",
    "yarr = np.array([2.1, 2.2, 2.3, 2.4, 2.5])\n",
    "cond = np.array([True, False, True, True, False])"
   ]
  },
  {
   "cell_type": "markdown",
   "id": "9dbb0c40-e308-4597-9483-d3e72e9e82b7",
   "metadata": {},
   "source": [
    "假设我们想要根据cond中的值选取xarr和yarr的值：当cond中的值为True时，选取xarr的值，否则从yarr中选取。列表推导式的写法应该如下所示："
   ]
  },
  {
   "cell_type": "code",
   "execution_count": null,
   "id": "bce28d6a-b141-4144-b0ee-01ab59adba96",
   "metadata": {},
   "outputs": [],
   "source": [
    "result = np.zeros(len(cond))\n",
    "\n",
    "for i in range(len(cond)):\n",
    "    if cond[i] == True:\n",
    "        result[i] = xarr[i]\n",
    "    else:\n",
    "        result[i] = yarr[i]\n",
    "\n",
    "result"
   ]
  },
  {
   "cell_type": "code",
   "execution_count": null,
   "id": "637e159d-441b-4cc5-9e4e-b85cafac4899",
   "metadata": {},
   "outputs": [],
   "source": [
    "result = [(x if c else y)\n",
    "          for x, y, c in zip(xarr, yarr, cond)]\n",
    "result"
   ]
  },
  {
   "cell_type": "markdown",
   "id": "0bec3159-7781-4623-ad77-1e8a109bf713",
   "metadata": {},
   "source": [
    "这有几个问题。第一，它对大数组的处理速度不是很快（因为所有工作都是由纯Python完成的）。第二，无法用于多维数组。若使用np.where，则可以将该功能写得非常简洁："
   ]
  },
  {
   "cell_type": "code",
   "execution_count": null,
   "id": "b5b23617-2f96-4f9f-a493-c6e050a13d59",
   "metadata": {},
   "outputs": [],
   "source": [
    "result = np.where(cond, xarr, yarr)\n",
    "result"
   ]
  },
  {
   "cell_type": "markdown",
   "id": "18bf6dba-7bd9-4812-9677-cbffa51d33b2",
   "metadata": {},
   "source": [
    "np.where的第二个和第三个参数不必是数组，它们都可以是标量值。在数据分析工作中，where通常用于根据另一个数组而产生一个新的数组。假设有一个由随机数据组成的矩阵，你希望将所有正值替换为2，将所有负值替换为－2。若利用np.where，则会非常简单："
   ]
  },
  {
   "cell_type": "code",
   "execution_count": null,
   "id": "395717c2-be3b-480b-8a0d-5a7e15494130",
   "metadata": {},
   "outputs": [],
   "source": [
    "arr = np.random.randn(4, 4)\n",
    "arr"
   ]
  },
  {
   "cell_type": "code",
   "execution_count": null,
   "id": "9441ae62-a047-423e-854b-77ec776fc3a2",
   "metadata": {},
   "outputs": [],
   "source": [
    "np.where(arr > 0, 2, -2)"
   ]
  },
  {
   "cell_type": "markdown",
   "id": "e2645408-e644-4a5c-b01b-26cd6a2f3e2e",
   "metadata": {},
   "source": [
    "使用np.where，可以将标量和数组结合起来。例如，我可用常数2替换arr中所有正的值："
   ]
  },
  {
   "cell_type": "code",
   "execution_count": null,
   "id": "d03bed06-7155-48f4-bdfd-098f03616485",
   "metadata": {},
   "outputs": [],
   "source": [
    "np.where(arr > 0, 2, arr) # set only positive values to 2"
   ]
  },
  {
   "cell_type": "markdown",
   "id": "77ef0f7c-d42e-42bf-a7b5-5686831a2cd3",
   "metadata": {},
   "source": [
    "## 数学和统计方法\n",
    "可以通过数组上的一组数学函数对整个数组或某个轴向的数据进行统计计算。sum、mean以及标准差std等聚合计算（aggregation，通常叫做约简（reduction））既可以当做数组的实例方法调用，也可以当做顶级NumPy函数使用。\n",
    "\n",
    "首先，我们生成了一些正态分布随机数据，然后做了聚类统计："
   ]
  },
  {
   "cell_type": "code",
   "execution_count": null,
   "id": "00c32817-8cf9-49e4-86f6-64dd78c9c499",
   "metadata": {},
   "outputs": [],
   "source": [
    "arr = np.random.rand(5,4)\n",
    "arr"
   ]
  },
  {
   "cell_type": "code",
   "execution_count": null,
   "id": "f679fb31-599a-4dbc-8fc6-91fa7c389b5d",
   "metadata": {},
   "outputs": [],
   "source": [
    "arr.mean()"
   ]
  },
  {
   "cell_type": "code",
   "execution_count": null,
   "id": "58d7a452-4216-47e4-b89e-00383944e59f",
   "metadata": {},
   "outputs": [],
   "source": [
    "np.mean(arr)"
   ]
  },
  {
   "cell_type": "code",
   "execution_count": null,
   "id": "94565f6d-3cce-4947-b936-b6a1dc6ddc5c",
   "metadata": {},
   "outputs": [],
   "source": [
    "arr.sum()"
   ]
  },
  {
   "cell_type": "markdown",
   "id": "ecab8e61-8eb6-4076-a012-2bad52f2dfe0",
   "metadata": {},
   "source": [
    "mean和sum这类的函数可以接受一个axis选项参数，用于计算该轴向上的统计值，最终结果是一个少一维的数组："
   ]
  },
  {
   "cell_type": "code",
   "execution_count": null,
   "id": "d7a2c3a5-b434-4a14-86aa-b9c1c501e440",
   "metadata": {},
   "outputs": [],
   "source": [
    "arr.mean(axis=1) # 计算行的平均值"
   ]
  },
  {
   "cell_type": "code",
   "execution_count": null,
   "id": "cdd40b09-739c-4b9d-8ff1-a5010999a584",
   "metadata": {},
   "outputs": [],
   "source": [
    "arr.sum(axis=0) # 计算列的和"
   ]
  },
  {
   "cell_type": "markdown",
   "id": "f25aad0b-41ae-4ef8-90c5-f16dcb155ad9",
   "metadata": {},
   "source": [
    "其他如cumsum和cumprod之类的方法则不聚合，而是产生一个由中间结果组成的数组："
   ]
  },
  {
   "cell_type": "code",
   "execution_count": null,
   "id": "ff88a7a4-4b43-4a61-aef5-48cd136caeea",
   "metadata": {},
   "outputs": [],
   "source": [
    "arr = np.array([0, 1, 2, 3, 4, 5, 6, 7])\n",
    "arr.cumsum()"
   ]
  },
  {
   "cell_type": "markdown",
   "id": "73269a6d-4d5a-40cc-a640-7bfaa59b9483",
   "metadata": {},
   "source": [
    "在多维数组中，累加函数（如cumsum）返回的是同样大小的数组，但是会根据每个低维的切片沿着标记轴计算部分聚类："
   ]
  },
  {
   "cell_type": "code",
   "execution_count": null,
   "id": "d2e4ccb7-12f4-4911-a177-5e21f1b5de1f",
   "metadata": {},
   "outputs": [],
   "source": [
    "arr = np.array([[0, 1, 2], [3, 4, 5], [6, 7, 8]])\n",
    "arr"
   ]
  },
  {
   "cell_type": "code",
   "execution_count": null,
   "id": "aa0db7e2-4d8a-41b5-afe2-53805a58ed1a",
   "metadata": {},
   "outputs": [],
   "source": [
    "arr.cumsum(axis=0)"
   ]
  },
  {
   "cell_type": "code",
   "execution_count": null,
   "id": "2a27bf98-5241-4aba-8e79-cb6a15453499",
   "metadata": {},
   "outputs": [],
   "source": [
    "arr.cumprod(axis=1)"
   ]
  },
  {
   "cell_type": "markdown",
   "id": "c92461b5-ace1-478b-9fa1-ae694603fe69",
   "metadata": {},
   "source": [
    "下表列出了全部的基本数组统计方法。\n",
    "![numpy_methods](figures/numpy_methods.png)\n",
    "![numpy_methods2](figures/numpy_methods2.png)"
   ]
  },
  {
   "cell_type": "markdown",
   "id": "760c1aa8-b7c1-489e-ab84-147124fc889a",
   "metadata": {},
   "source": [
    "## 用于布尔型数组的方法\n",
    "在上面这些方法中，布尔值会被强制转换为1（True）和0（False）。因此，sum经常被用来对布尔型数组中的True值计数："
   ]
  },
  {
   "cell_type": "code",
   "execution_count": null,
   "id": "3236c83e-0e2c-4247-8883-34a076e76a94",
   "metadata": {},
   "outputs": [],
   "source": [
    "arr = np.random.randn(100)\n",
    "arr"
   ]
  },
  {
   "cell_type": "code",
   "execution_count": null,
   "id": "edb825a9-fcda-4646-8049-1ae3dcda3dba",
   "metadata": {},
   "outputs": [],
   "source": [
    "(arr > 0).sum() # Number of positive values"
   ]
  },
  {
   "cell_type": "code",
   "execution_count": null,
   "id": "04d6df72-560e-434b-b69f-d8b3984e0a4f",
   "metadata": {},
   "outputs": [],
   "source": [
    "(arr <= 0).sum() # Number of non-positive values"
   ]
  },
  {
   "cell_type": "markdown",
   "id": "f3557e3e-2f7b-4bbd-bfe4-d6ae586f2a2b",
   "metadata": {},
   "source": [
    "另外还有两个方法any和all，它们对布尔型数组非常有用。any用于测试数组中是否存在一个或多个True，而all则检查数组中所有值是否都是True："
   ]
  },
  {
   "cell_type": "code",
   "execution_count": null,
   "id": "bd984d96-163d-4aa8-a139-ffab6fbcad4b",
   "metadata": {},
   "outputs": [],
   "source": [
    "bools = np.array([False, False, True, False])\n",
    "bools.any()"
   ]
  },
  {
   "cell_type": "code",
   "execution_count": null,
   "id": "49534e1e-0910-4604-b93d-6563675263e5",
   "metadata": {},
   "outputs": [],
   "source": [
    "bools.all()"
   ]
  },
  {
   "cell_type": "markdown",
   "id": "e06f54a7-ddf7-42ae-9724-478cc008d73f",
   "metadata": {},
   "source": [
    "## 排序\n",
    "跟Python内置的列表类型一样，NumPy数组也可以通过sort方法就地排序："
   ]
  },
  {
   "cell_type": "code",
   "execution_count": null,
   "id": "54eec0b3-ee71-4420-afc9-fc0f9f968ade",
   "metadata": {},
   "outputs": [],
   "source": [
    "arr = np.random.randn(6)\n",
    "arr"
   ]
  },
  {
   "cell_type": "code",
   "execution_count": null,
   "id": "7a58e02c-13d0-4e6c-9007-08283dc938ea",
   "metadata": {},
   "outputs": [],
   "source": [
    "arr.sort()\n",
    "arr"
   ]
  },
  {
   "cell_type": "markdown",
   "id": "22ffc47c-2ff5-481e-b2bc-73f79cd1d205",
   "metadata": {},
   "source": [
    "多维数组可以在任何一个轴向上进行排序，只需将轴编号传给sort即可："
   ]
  },
  {
   "cell_type": "code",
   "execution_count": null,
   "id": "0cc87e72-eaa9-4326-88cb-f3d70d37d967",
   "metadata": {},
   "outputs": [],
   "source": [
    "arr = np.random.randn(5, 3)\n",
    "arr"
   ]
  },
  {
   "cell_type": "code",
   "execution_count": null,
   "id": "c013d6d4-68fa-4887-9fec-ee66809d94cb",
   "metadata": {},
   "outputs": [],
   "source": [
    "arr.sort(axis=0)\n",
    "arr"
   ]
  },
  {
   "cell_type": "code",
   "execution_count": null,
   "id": "24ffe70c-0020-473d-a028-d45bb5180d81",
   "metadata": {},
   "outputs": [],
   "source": [
    "arr.sort(axis=1)\n",
    "arr"
   ]
  },
  {
   "cell_type": "markdown",
   "id": "bab5885b-5d01-46de-a614-f2628882562b",
   "metadata": {},
   "source": [
    "注意：顶级函数np.sort返回的是数组的已排序副本，而就地排序则会修改数组本身。"
   ]
  },
  {
   "cell_type": "code",
   "execution_count": null,
   "id": "19112ea2-7d35-45f2-91a6-ce5134b5d922",
   "metadata": {},
   "outputs": [],
   "source": [
    "arr2 = np.array([5, -10, 7, 1, 0, -3])\n",
    "sorted_arr2 = np.sort(arr2)\n",
    "sorted_arr2"
   ]
  },
  {
   "cell_type": "code",
   "execution_count": null,
   "id": "f90bbb2f-55da-4210-a2d3-b8a402696aaa",
   "metadata": {},
   "outputs": [],
   "source": [
    "arr2"
   ]
  },
  {
   "cell_type": "markdown",
   "id": "e954e986-bdcf-4f49-9a53-39c916246191",
   "metadata": {},
   "source": [
    "计算数组分位数最简单的办法是对其进行排序，然后选取特定位置的值："
   ]
  },
  {
   "cell_type": "code",
   "execution_count": null,
   "id": "b76abca4-b0e4-43fc-a4be-f4414b826951",
   "metadata": {},
   "outputs": [],
   "source": [
    "large_arr = np.random.randn(1000)\n",
    "large_arr.sort()\n",
    "large_arr[int(0.05 * len(large_arr))] # 5% quantile"
   ]
  },
  {
   "cell_type": "markdown",
   "id": "6b14e9c9-18d7-4a9d-8abc-57522272b9a9",
   "metadata": {},
   "source": [
    "唯一化以及其它的集合逻辑\n",
    "NumPy提供了一些针对一维ndarray的基本集合运算。最常用的可能要数np.unique了，它用于找出数组中的唯一值并返回已排序的结果："
   ]
  },
  {
   "cell_type": "code",
   "execution_count": null,
   "id": "89e363a1-6490-417a-a746-33a9d0a18c50",
   "metadata": {},
   "outputs": [],
   "source": [
    "names = np.array([\"Bob\", \"Will\", \"Joe\", \"Bob\", \"Will\", \"Joe\", \"Joe\"])\n",
    "np.unique(names)"
   ]
  },
  {
   "cell_type": "code",
   "execution_count": null,
   "id": "f3e48acd-85c5-4fcb-927d-af8ce8f941a1",
   "metadata": {},
   "outputs": [],
   "source": [
    "ints = np.array([3, 3, 3, 2, 2, 1, 1, 4, 4])\n",
    "np.unique(ints)"
   ]
  },
  {
   "cell_type": "markdown",
   "id": "db6abeba-5f1f-4611-bf5a-8c891edaedde",
   "metadata": {},
   "source": [
    "拿跟np.unique等价的纯Python代码来对比一下："
   ]
  },
  {
   "cell_type": "code",
   "execution_count": null,
   "id": "7c764fdb-9f91-4b37-8e56-908aab1a8bc8",
   "metadata": {},
   "outputs": [],
   "source": [
    "sorted(set(names))"
   ]
  },
  {
   "cell_type": "markdown",
   "id": "dbc0bc6f-ec80-40a4-9177-3de7945e655a",
   "metadata": {},
   "source": [
    "另一个函数np.in1d用于测试一个数组中的值在另一个数组中的成员资格，返回一个布尔型数组："
   ]
  },
  {
   "cell_type": "code",
   "execution_count": null,
   "id": "208f3174-0fc4-46a2-9814-52a0bbbbce50",
   "metadata": {},
   "outputs": [],
   "source": [
    "values = np.array([6, 0, 0, 3, 2, 5, 6])\n",
    "np.in1d(values, [2, 3, 6])"
   ]
  },
  {
   "cell_type": "markdown",
   "id": "d77ce5fc-e710-43f2-ba9c-8ee62d1995c0",
   "metadata": {},
   "source": [
    "## 用于数组的文件输入输出\n",
    "NumPy能够读写磁盘上的文本数据或二进制数据。这一小节只讨论NumPy的内置二进制格式，因为更多的用户会使用pandas或其它工具加载文本或表格数据（见下一章）。\n",
    "\n",
    "np.save和np.load是读写磁盘数组数据的两个主要函数。默认情况下，数组是以未压缩的原始二进制格式保存在扩展名为.npy的文件中的："
   ]
  },
  {
   "cell_type": "code",
   "execution_count": null,
   "id": "6208ddb6-47e3-4a88-8b4d-b53f35710937",
   "metadata": {},
   "outputs": [],
   "source": [
    "arr = np.arange(10)\n",
    "np.save(\"some_array\", arr)"
   ]
  },
  {
   "cell_type": "markdown",
   "id": "82a59086-8543-40be-8b1d-eb9e3d2692ea",
   "metadata": {},
   "source": [
    "如果文件路径末尾没有扩展名.npy，则该扩展名会被自动加上。然后就可以通过np.load读取磁盘上的数组："
   ]
  },
  {
   "cell_type": "code",
   "execution_count": null,
   "id": "864cd2b7-4f03-4055-9d1d-689fe8a71ea6",
   "metadata": {},
   "outputs": [],
   "source": [
    "np.load(\"some_array.npy\")"
   ]
  },
  {
   "cell_type": "markdown",
   "id": "5747ccbd-289e-4000-bb0d-6e4981ab1e84",
   "metadata": {},
   "source": [
    "## 线性代数\n",
    "线性代数（如矩阵乘法、矩阵分解、行列式以及其他方阵数学等）是任何数组库的重要组成部分。不像某些语言（如MATLAB），通过*对两个二维数组相乘得到的是一个元素级的积，而不是一个矩阵点积。因此，NumPy提供了一个用于矩阵乘法的dot函数（既是一个数组方法也是numpy命名空间中的一个函数）："
   ]
  },
  {
   "cell_type": "code",
   "execution_count": null,
   "id": "a5df0fef-507e-4bf2-aa26-b112be139bfc",
   "metadata": {},
   "outputs": [],
   "source": [
    "x = np.array([[1., 2., 3.], [4., 5., 6.]])\n",
    "y = np.array([[6., 23.], [-1, 7], [8, 9]])\n",
    "print(x)\n",
    "print(y)"
   ]
  },
  {
   "cell_type": "code",
   "execution_count": null,
   "id": "98e7b508-3caa-41dd-91c4-070eb0c67aa3",
   "metadata": {},
   "outputs": [],
   "source": [
    "x.dot(y)"
   ]
  },
  {
   "cell_type": "code",
   "execution_count": null,
   "id": "531b5f68-9028-48be-bdf8-09df1c50cd7e",
   "metadata": {},
   "outputs": [],
   "source": [
    "np.dot(x, y) # 等价于x.dot(y)"
   ]
  },
  {
   "cell_type": "markdown",
   "id": "a6a7e9df-322a-4e33-98c8-dd73f76b99fa",
   "metadata": {},
   "source": [
    "## 伪随机数生成\n",
    "numpy.random模块对Python内置的random进行了补充，增加了一些用于高效生成多种概率分布的样本值的函数。例如，你可以用normal来得到一个标准正态分布的4×4样本数组："
   ]
  },
  {
   "cell_type": "code",
   "execution_count": null,
   "id": "fb7b96c1-b5d5-4b82-9208-4a6bef1602a8",
   "metadata": {},
   "outputs": [],
   "source": [
    "samples = np.random.normal(size=(4, 4))\n",
    "samples"
   ]
  },
  {
   "cell_type": "markdown",
   "id": "b7ef7adf-5d3b-46b5-9410-776cce9b18cf",
   "metadata": {},
   "source": [
    "而Python内置的random模块则只能一次生成一个样本值。从下面的测试结果中可以看出，如果需要产生大量样本值，numpy.random快了不止一个数量级："
   ]
  },
  {
   "cell_type": "code",
   "execution_count": null,
   "id": "125cd1d0-1dbd-44b3-8097-d8acb5bed1d3",
   "metadata": {},
   "outputs": [],
   "source": [
    "from random import normalvariate\n",
    "N = 1000000\n",
    "\n",
    "%timeit samples = [normalvariate(0, 1) for _ in range(N)]"
   ]
  },
  {
   "cell_type": "code",
   "execution_count": null,
   "id": "ee74fbc0-6f37-4656-8095-a86fe94d446f",
   "metadata": {},
   "outputs": [],
   "source": [
    "%timeit np.random.normal(size=N)"
   ]
  },
  {
   "cell_type": "markdown",
   "id": "c60bdd06-1767-4248-a5c4-972a2d21c6a5",
   "metadata": {},
   "source": [
    "我们说这些都是伪随机数，是因为它们都是通过算法基于随机数生成器种子，在确定性的条件下生成的。你可以用NumPy的np.random.seed更改随机数生成种子："
   ]
  },
  {
   "cell_type": "code",
   "execution_count": null,
   "id": "8544ea22-7c7b-407f-bd7a-b7649b146d0a",
   "metadata": {},
   "outputs": [],
   "source": [
    "np.random.seed(1234)"
   ]
  },
  {
   "cell_type": "code",
   "execution_count": null,
   "id": "9549e03f-49bd-4fd5-b512-a5f7aa29749c",
   "metadata": {},
   "outputs": [],
   "source": [
    "np.random.randn(5)"
   ]
  },
  {
   "cell_type": "markdown",
   "id": "ff8ea842-2c6e-4774-813d-527ffd938f6b",
   "metadata": {},
   "source": [
    "下表列出了numpy.random中的部分函数。\n",
    "![numpy_random](figures/numpy_random.png)\n",
    "![numpy_random2](figures/numpy_random2.png)"
   ]
  },
  {
   "cell_type": "markdown",
   "id": "553f9cc6-ef71-4ec2-9b3f-f234d560fbbe",
   "metadata": {},
   "source": [
    "## 示例：随机漫步\n",
    "我们通过模拟随机漫步来说明如何运用数组运算。先来看一个简单的随机漫步的例子：从0开始，步长1和－1出现的概率相等。\n",
    "\n",
    "下面是一个通过内置的random模块以纯Python的方式实现1000步的随机漫步："
   ]
  },
  {
   "cell_type": "code",
   "execution_count": null,
   "id": "d919fd71-6654-4b7a-bb24-01eb444da24b",
   "metadata": {},
   "outputs": [],
   "source": [
    "import random\n",
    "position = 0\n",
    "walk = [position]\n",
    "nsteps = 1000\n",
    "for i in range(nsteps):\n",
    "    step = 1 if random.randint(0, 1) else -1\n",
    "    position += step\n",
    "    walk.append(position)\n"
   ]
  },
  {
   "cell_type": "code",
   "execution_count": null,
   "id": "9afcc59b-4f23-45e4-ac61-71f563cf42c5",
   "metadata": {},
   "outputs": [],
   "source": [
    "plt.plot(walk[:100])"
   ]
  },
  {
   "cell_type": "markdown",
   "id": "2102e773-e9cc-470c-a3c1-fba00856bc06",
   "metadata": {},
   "source": [
    "不难看出，这其实就是随机漫步中各步的累计和，可以用一个数组运算来实现。因此，我用np.random模块一次性随机产生1000个“掷硬币”结果（即两个数中任选一个），将其分别设置为1或－1，然后计算累计和："
   ]
  },
  {
   "cell_type": "code",
   "execution_count": null,
   "id": "9b9a4071-84a5-4071-82e8-a2465eee8c1a",
   "metadata": {},
   "outputs": [],
   "source": [
    "nsteps = 1000\n",
    "draws = np.random.randint(0, 2, size=nsteps)\n",
    "steps = np.where(draws > 0, 1, -1)\n",
    "walk = steps.cumsum()"
   ]
  },
  {
   "cell_type": "code",
   "execution_count": null,
   "id": "81ba4284-77df-45b4-a20a-0f91922ed705",
   "metadata": {},
   "outputs": [],
   "source": [
    "plt.plot(walk)"
   ]
  },
  {
   "cell_type": "markdown",
   "id": "1633b90c-2480-4a7d-938c-735a62065fbd",
   "metadata": {},
   "source": [
    "有了这些数据之后，我们就可以沿着漫步路径做一些统计工作了，比如求取最大值和最小值："
   ]
  },
  {
   "cell_type": "code",
   "execution_count": null,
   "id": "8a6addb2-bf4c-4cc6-8f2a-2e784a47c280",
   "metadata": {},
   "outputs": [],
   "source": [
    "walk.min()"
   ]
  },
  {
   "cell_type": "code",
   "execution_count": null,
   "id": "8500bb83-16ba-441d-9d50-666c53888f71",
   "metadata": {},
   "outputs": [],
   "source": [
    "walk.max()"
   ]
  },
  {
   "cell_type": "markdown",
   "id": "3dca2683-2024-4474-8016-f3d74e53ccad",
   "metadata": {},
   "source": [
    "现在来看一个复杂点的统计任务——首次穿越时间，即随机漫步过程中第一次到达某个特定值的时间。假设我们想要知道本次随机漫步需要多久才能距离初始0点至少10步远（任一方向均可）。np.abs(walk)>=10可以得到一个布尔型数组，它表示的是距离是否达到或超过10，而我们想要知道的是第一个10或－10的索引。可以用argmax来解决这个问题，它返回的是该布尔型数组第一个最大值的索引（True就是最大值）："
   ]
  },
  {
   "cell_type": "code",
   "execution_count": null,
   "id": "2d1b77f8-aec5-46d3-a28d-6b9dd4afcde6",
   "metadata": {},
   "outputs": [],
   "source": [
    "(np.abs(walk) >= 10).argmax()"
   ]
  },
  {
   "cell_type": "markdown",
   "id": "45f0271a-00ea-4448-83df-1f5f9c4bbc46",
   "metadata": {},
   "source": [
    "## 一次模拟多个随机漫步\n",
    "如果你希望模拟多个随机漫步过程（比如5000个），只需对上面的代码做一点点修改即可生成所有的随机漫步过程。只要给numpy.random的函数传入一个二元元组就可以产生一个二维数组，然后我们就可以一次性计算5000个随机漫步过程（一行一个）的累计和了："
   ]
  },
  {
   "cell_type": "code",
   "execution_count": null,
   "id": "247716dd-f82a-4680-9d7b-f995af7785fd",
   "metadata": {},
   "outputs": [],
   "source": [
    "nwalks = 5000\n",
    "nsteps = 1000\n",
    "draws = np.random.randint(0, 2, size=(nwalks, nsteps)) # 0 or 1\n",
    "steps = np.where(draws > 0, 1, -1)\n",
    "walks = steps.cumsum(axis=1)\n",
    "walks"
   ]
  },
  {
   "cell_type": "code",
   "execution_count": null,
   "id": "4aa82173-e421-4647-95c5-7aaea4122cd4",
   "metadata": {},
   "outputs": [],
   "source": [
    "walks.max()"
   ]
  },
  {
   "cell_type": "code",
   "execution_count": null,
   "id": "5aaf334c-6ab6-4336-9065-dd452c8ecb2e",
   "metadata": {},
   "outputs": [],
   "source": [
    "walks.min()"
   ]
  },
  {
   "cell_type": "markdown",
   "id": "8dde0bf6-23e0-49aa-a675-22e4ab78f387",
   "metadata": {},
   "source": [
    "得到这些数据之后，我们来计算30或－30的最小穿越时间。这里稍微复杂些，因为不是5000个过程都到达了30。我们可以用any方法来对此进行检查："
   ]
  },
  {
   "cell_type": "code",
   "execution_count": null,
   "id": "4c4feefe-e104-4523-8172-6a68ca177ad6",
   "metadata": {},
   "outputs": [],
   "source": [
    "hits30 = (np.abs(walks) >= 30).any(axis=1)\n",
    "hits30"
   ]
  },
  {
   "cell_type": "code",
   "execution_count": null,
   "id": "b3ac069c-5525-459e-9f14-9bdb7e02a0d1",
   "metadata": {},
   "outputs": [],
   "source": [
    "hits30.sum() # Number that hit 30 or -30, the total walks is 5000 times"
   ]
  },
  {
   "cell_type": "code",
   "execution_count": null,
   "id": "4efb2739-1255-4279-bffa-585935a1bd9f",
   "metadata": {},
   "outputs": [],
   "source": [
    "crossing_times = (np.abs(walks[hits30]) >= 30).argmax(axis=1)\n",
    "crossing_times"
   ]
  },
  {
   "cell_type": "code",
   "execution_count": null,
   "id": "8cd57b47-0266-40a1-8e57-bfd98fa2f6cd",
   "metadata": {},
   "outputs": [],
   "source": [
    "crossing_times.mean()"
   ]
  },
  {
   "cell_type": "markdown",
   "id": "b18def2e-9b1f-4b62-af57-6e1322f8c1fd",
   "metadata": {},
   "source": [
    "## The End! :)"
   ]
  }
 ],
 "metadata": {
  "kernelspec": {
   "display_name": "Python 3 (ipykernel)",
   "language": "python",
   "name": "python3"
  },
  "language_info": {
   "codemirror_mode": {
    "name": "ipython",
    "version": 3
   },
   "file_extension": ".py",
   "mimetype": "text/x-python",
   "name": "python",
   "nbconvert_exporter": "python",
   "pygments_lexer": "ipython3",
   "version": "3.11.7"
  }
 },
 "nbformat": 4,
 "nbformat_minor": 5
}
